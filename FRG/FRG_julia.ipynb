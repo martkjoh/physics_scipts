{
 "cells": [
  {
   "cell_type": "code",
   "execution_count": 1,
   "metadata": {},
   "outputs": [],
   "source": [
    "using Plots"
   ]
  },
  {
   "cell_type": "code",
   "execution_count": 2,
   "metadata": {},
   "outputs": [
    {
     "data": {
      "text/plain": [
       "DD (generic function with 1 method)"
      ]
     },
     "metadata": {},
     "output_type": "display_data"
    }
   ],
   "source": [
    "function D(U, dp)\n",
    "    DU = zero(U)\n",
    "    @. DU[2:end-1] = (U[3:end] - U[1:end-2])/2 / dp\n",
    "    @. DU[+1] = +(-1/2 * U[3] + 2 * U[2] - 3/2*U[1]) / dp\n",
    "    @. DU[end-1] = -(-1/2 * U[end-3] + 2 * U[end-2] - 3/2*U[end-1]) / dp\n",
    "    return DU\n",
    "end\n",
    "\n",
    "function DD(U, dp)\n",
    "    DDU = zero(U)\n",
    "    DDU[1:-1] = (U[2:end] + U[end:-2] - 2 * U[1:-1]) / dp^2 \n",
    "    DDU[+0] = +(-U[+3] + 4*U[+2] - 5*U[+1] + 2*U[+0]) / dp^2\n",
    "    DDU[-1] = +(-U[-4] + 4*U[-3] - 5*U[-2] + 2*U[-1]) / dp^2\n",
    "    return DDU\n",
    "end"
   ]
  },
  {
   "cell_type": "code",
   "execution_count": 4,
   "metadata": {},
   "outputs": [],
   "source": [
    "using FiniteDiff"
   ]
  },
  {
   "cell_type": "code",
   "execution_count": 13,
   "metadata": {},
   "outputs": [
    {
     "ename": "MethodError",
     "evalue": "MethodError: no method matching finite_difference_derivative(::LinRange{Float64, Int64})\n\nClosest candidates are:\n  finite_difference_derivative(::Any, !Matched::T, !Matched::Any, !Matched::Any, !Matched::Any; relstep, absstep, dir) where T<:Number\n   @ FiniteDiff ~/.julia/packages/FiniteDiff/KKEkv/src/derivatives.jl:10\n  finite_difference_derivative(::Any, !Matched::T, !Matched::Any, !Matched::Any; ...) where T<:Number\n   @ FiniteDiff ~/.julia/packages/FiniteDiff/KKEkv/src/derivatives.jl:10\n  finite_difference_derivative(::Any, !Matched::T, !Matched::Any; ...) where T<:Number\n   @ FiniteDiff ~/.julia/packages/FiniteDiff/KKEkv/src/derivatives.jl:10\n  ...\n",
     "output_type": "error",
     "traceback": [
      "MethodError: no method matching finite_difference_derivative(::LinRange{Float64, Int64})\n",
      "\n",
      "Closest candidates are:\n",
      "  finite_difference_derivative(::Any, !Matched::T, !Matched::Any, !Matched::Any, !Matched::Any; relstep, absstep, dir) where T<:Number\n",
      "   @ FiniteDiff ~/.julia/packages/FiniteDiff/KKEkv/src/derivatives.jl:10\n",
      "  finite_difference_derivative(::Any, !Matched::T, !Matched::Any, !Matched::Any; ...) where T<:Number\n",
      "   @ FiniteDiff ~/.julia/packages/FiniteDiff/KKEkv/src/derivatives.jl:10\n",
      "  finite_difference_derivative(::Any, !Matched::T, !Matched::Any; ...) where T<:Number\n",
      "   @ FiniteDiff ~/.julia/packages/FiniteDiff/KKEkv/src/derivatives.jl:10\n",
      "  ...\n",
      "\n",
      "\n",
      "Stacktrace:\n",
      " [1] top-level scope\n",
      "   @ ~/repos/physics_scipts/FRG/jl_notebook_cell_df34fa98e69747e1a8f8a730347b8e2f_W3sZmlsZQ==.jl:4"
     ]
    }
   ],
   "source": [
    "x = LinRange(0, 1, 10)\n",
    "dx = x[2] - x[1]\n",
    "ffDD = FiniteDiff.finite_difference_derivative\n",
    "ffDD(x)"
   ]
  },
  {
   "cell_type": "code",
   "execution_count": null,
   "metadata": {},
   "outputs": [],
   "source": []
  }
 ],
 "metadata": {
  "kernelspec": {
   "display_name": "Julia 1.10.4",
   "language": "julia",
   "name": "julia-1.10"
  },
  "language_info": {
   "file_extension": ".jl",
   "mimetype": "application/julia",
   "name": "julia",
   "version": "1.10.4"
  }
 },
 "nbformat": 4,
 "nbformat_minor": 2
}
