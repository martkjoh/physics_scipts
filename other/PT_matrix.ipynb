{
 "cells": [
  {
   "cell_type": "code",
   "execution_count": 2,
   "metadata": {
    "vscode": {
     "languageId": "python"
    }
   },
   "outputs": [
    {
     "data": {
      "text/latex": [
       "$$ \\left(\\begin{array}{rr}\n",
       "3 \\, x^{2} + \\beta & \\alpha \\\\\n",
       "-\\alpha & x^{2} + \\beta\n",
       "\\end{array}\\right) $$"
      ],
      "text/plain": [
       "<IPython.core.display.Latex object>"
      ]
     },
     "metadata": {},
     "output_type": "display_data"
    },
    {
     "data": {
      "text/latex": [
       "$$ \\left(\\begin{array}{rr}\n",
       "a & b \\\\\n",
       "c & d\n",
       "\\end{array}\\right) $$"
      ],
      "text/plain": [
       "<IPython.core.display.Latex object>"
      ]
     },
     "metadata": {},
     "output_type": "display_data"
    }
   ],
   "source": [
    "from IPython.display import display, Latex\n",
    "def pprint(expr):\n",
    "    return display(Latex(\"$$\" + latex(expr) +\"$$\"))\n",
    "\n",
    "var(\"beta, x, alpha\")\n",
    "var(\"a, b, c, d\")\n",
    "\n",
    "M = Matrix([[beta + 3 * x**2, alpha], [-alpha, beta + x**2]])\n",
    "X = Matrix([[a, b], [c, d ]]) \n",
    "pprint(M)\n",
    "pprint(X)\n"
   ]
  },
  {
   "cell_type": "code",
   "execution_count": 3,
   "metadata": {
    "vscode": {
     "languageId": "python"
    }
   },
   "outputs": [
    {
     "data": {
      "text/latex": [
       "$$ \\left(\\begin{array}{rr}\n",
       "\\alpha b + \\alpha c & -a \\alpha + {\\left(3 \\, x^{2} + \\beta\\right)} b - {\\left(x^{2} + \\beta\\right)} b + \\alpha d \\\\\n",
       "-a \\alpha - {\\left(3 \\, x^{2} + \\beta\\right)} c + {\\left(x^{2} + \\beta\\right)} c + \\alpha d & -\\alpha b - \\alpha c\n",
       "\\end{array}\\right) $$"
      ],
      "text/plain": [
       "<IPython.core.display.Latex object>"
      ]
     },
     "metadata": {},
     "output_type": "display_data"
    }
   ],
   "source": [
    "com = M*X - X*M\n",
    "com = com.simplify()\n",
    "pprint(com)"
   ]
  },
  {
   "cell_type": "code",
   "execution_count": 4,
   "metadata": {
    "vscode": {
     "languageId": "python"
    }
   },
   "outputs": [
    {
     "data": {
      "text/latex": [
       "$$ \\left(\\begin{array}{rr}\n",
       "a & b \\\\\n",
       "-b & -\\frac{2 \\, b x^{2}}{\\alpha} + a\n",
       "\\end{array}\\right) $$"
      ],
      "text/plain": [
       "<IPython.core.display.Latex object>"
      ]
     },
     "metadata": {},
     "output_type": "display_data"
    },
    {
     "data": {
      "text/latex": [
       "$$ \\left(\\begin{array}{rr}\n",
       "0 & 0 \\\\\n",
       "0 & 0\n",
       "\\end{array}\\right) $$"
      ],
      "text/plain": [
       "<IPython.core.display.Latex object>"
      ]
     },
     "metadata": {},
     "output_type": "display_data"
    }
   ],
   "source": [
    "X = Matrix([[a, b], [-b, a - 2* b * x**2 / alpha]])\n",
    "pprint(X)\n",
    "com = M*X - X*M\n",
    "com = com.simplify_full()\n",
    "pprint(com)"
   ]
  },
  {
   "cell_type": "code",
   "execution_count": 5,
   "metadata": {
    "vscode": {
     "languageId": "python"
    }
   },
   "outputs": [
    {
     "data": {
      "text/latex": [
       "$$ \\left(\\begin{array}{rr}\n",
       "a^{2} - b^{2} & -{\\left(\\frac{2 \\, b x^{2}}{\\alpha} - a\\right)} b + a b \\\\\n",
       "{\\left(\\frac{2 \\, b x^{2}}{\\alpha} - a\\right)} b - a b & {\\left(\\frac{2 \\, b x^{2}}{\\alpha} - a\\right)}^{2} - b^{2}\n",
       "\\end{array}\\right) $$"
      ],
      "text/plain": [
       "<IPython.core.display.Latex object>"
      ]
     },
     "metadata": {},
     "output_type": "display_data"
    }
   ],
   "source": [
    "pprint(simplify(X*X) )"
   ]
  },
  {
   "cell_type": "code",
   "execution_count": 6,
   "metadata": {
    "vscode": {
     "languageId": "python"
    }
   },
   "outputs": [
    {
     "data": {
      "text/latex": [
       "$$ \\left[\\left(2 \\, x^{2} + \\beta - \\sqrt{x^{4} - \\alpha^{2}}, \\left[\\left(1,\\,-\\frac{x^{2} + \\sqrt{x^{4} - \\alpha^{2}}}{\\alpha}\\right)\\right], 1\\right), \\left(2 \\, x^{2} + \\beta + \\sqrt{x^{4} - \\alpha^{2}}, \\left[\\left(1,\\,-\\frac{x^{2} - \\sqrt{x^{4} - \\alpha^{2}}}{\\alpha}\\right)\\right], 1\\right)\\right] $$"
      ],
      "text/plain": [
       "<IPython.core.display.Latex object>"
      ]
     },
     "metadata": {},
     "output_type": "display_data"
    },
    {
     "data": {
      "text/latex": [
       "$$ \\left[\\left(-\\frac{b x^{2} - a \\alpha + \\sqrt{x^{4} - \\alpha^{2}} b}{\\alpha}, \\left[\\left(1,\\,-\\frac{x^{2} + \\sqrt{x^{4} - \\alpha^{2}}}{\\alpha}\\right)\\right], 1\\right), \\left(-\\frac{b x^{2} - a \\alpha - \\sqrt{x^{4} - \\alpha^{2}} b}{\\alpha}, \\left[\\left(1,\\,-\\frac{x^{2} - \\sqrt{x^{4} - \\alpha^{2}}}{\\alpha}\\right)\\right], 1\\right)\\right] $$"
      ],
      "text/plain": [
       "<IPython.core.display.Latex object>"
      ]
     },
     "metadata": {},
     "output_type": "display_data"
    }
   ],
   "source": [
    "pprint(M.eigenvectors_right())\n",
    "pprint(X.eigenvectors_right())"
   ]
  },
  {
   "cell_type": "code",
   "execution_count": 7,
   "metadata": {
    "vscode": {
     "languageId": "python"
    }
   },
   "outputs": [
    {
     "data": {
      "text/latex": [
       "$$ \\left(\\begin{array}{rr}\n",
       "-\\alpha & x^{2} + \\beta \\\\\n",
       "3 \\, x^{2} + \\beta & \\alpha\n",
       "\\end{array}\\right) $$"
      ],
      "text/plain": [
       "<IPython.core.display.Latex object>"
      ]
     },
     "metadata": {},
     "output_type": "display_data"
    },
    {
     "data": {
      "text/latex": [
       "$$ \\left(\\begin{array}{rr}\n",
       "\\alpha & 3 \\, x^{2} + \\beta \\\\\n",
       "x^{2} + \\beta & -\\alpha\n",
       "\\end{array}\\right) $$"
      ],
      "text/plain": [
       "<IPython.core.display.Latex object>"
      ]
     },
     "metadata": {},
     "output_type": "display_data"
    },
    {
     "data": {
      "text/latex": [
       "$$ \\left(\\begin{array}{rr}\n",
       "1 & 0 \\\\\n",
       "0 & 1\n",
       "\\end{array}\\right) $$"
      ],
      "text/plain": [
       "<IPython.core.display.Latex object>"
      ]
     },
     "metadata": {},
     "output_type": "display_data"
    }
   ],
   "source": [
    "P = Matrix([[0, 1], [1, 0]]) \n",
    "pprint(P*M)\n",
    "pprint(M*P)\n",
    "pprint(P*P)"
   ]
  },
  {
   "cell_type": "code",
   "execution_count": 8,
   "metadata": {
    "vscode": {
     "languageId": "python"
    }
   },
   "outputs": [
    {
     "data": {
      "text/latex": [
       "$$ \\left(\\begin{array}{rr}\n",
       "2 \\, \\alpha & 2 \\, x^{2} \\\\\n",
       "-2 \\, x^{2} & -2 \\, \\alpha\n",
       "\\end{array}\\right) $$"
      ],
      "text/plain": [
       "<IPython.core.display.Latex object>"
      ]
     },
     "metadata": {},
     "output_type": "display_data"
    }
   ],
   "source": [
    "pprint(M*P - P*M)"
   ]
  },
  {
   "cell_type": "code",
   "execution_count": 9,
   "metadata": {
    "vscode": {
     "languageId": "python"
    }
   },
   "outputs": [
    {
     "data": {
      "text/latex": [
       "$$ \\left(\\begin{array}{rr}\n",
       "3 \\, x^{2} + \\beta & \\alpha \\\\\n",
       "-\\alpha & x^{2} + \\beta\n",
       "\\end{array}\\right) $$"
      ],
      "text/plain": [
       "<IPython.core.display.Latex object>"
      ]
     },
     "metadata": {},
     "output_type": "display_data"
    },
    {
     "data": {
      "text/latex": [
       "$$ \\left(\\begin{array}{rr}\n",
       "x^{2} + \\beta & -\\alpha \\\\\n",
       "\\alpha & 3 \\, x^{2} + \\beta\n",
       "\\end{array}\\right) $$"
      ],
      "text/plain": [
       "<IPython.core.display.Latex object>"
      ]
     },
     "metadata": {},
     "output_type": "display_data"
    }
   ],
   "source": [
    "pprint(M)\n",
    "pprint(P*M*P)"
   ]
  },
  {
   "cell_type": "code",
   "execution_count": 10,
   "metadata": {
    "vscode": {
     "languageId": "python"
    }
   },
   "outputs": [
    {
     "data": {
      "text/latex": [
       "$$ \\left[\\left(-\\sqrt{-g^{2} + k^{2}}, \\left[\\left(1,\\,\\frac{-i \\, g - \\sqrt{-g^{2} + k^{2}}}{k}\\right)\\right], 1\\right), \\left(\\sqrt{-g^{2} + k^{2}}, \\left[\\left(1,\\,\\frac{-i \\, g + \\sqrt{-g^{2} + k^{2}}}{k}\\right)\\right], 1\\right)\\right] $$"
      ],
      "text/plain": [
       "<IPython.core.display.Latex object>"
      ]
     },
     "metadata": {},
     "output_type": "display_data"
    }
   ],
   "source": [
    "var(\"g, k\")\n",
    "\n",
    "N = Matrix([[I*g, k],  [k, - I*g]])\n",
    "pprint(N.eigenvectors_right())"
   ]
  },
  {
   "cell_type": "code",
   "execution_count": 21,
   "metadata": {
    "vscode": {
     "languageId": "python"
    }
   },
   "outputs": [
    {
     "data": {
      "text/latex": [
       "$$ \\left(\\begin{array}{rrrr}\n",
       "\\left(\\frac{1}{2} i + \\frac{1}{2}\\right) \\, \\sqrt{2} & a & 0 & a \\\\\n",
       "a & \\left(\\frac{1}{2} i - \\frac{1}{2}\\right) \\, \\sqrt{2} & a & 0 \\\\\n",
       "0 & a & -\\left(\\frac{1}{2} i + \\frac{1}{2}\\right) \\, \\sqrt{2} & a \\\\\n",
       "a & 0 & a & -\\left(\\frac{1}{2} i - \\frac{1}{2}\\right) \\, \\sqrt{2}\n",
       "\\end{array}\\right) $$"
      ],
      "text/plain": [
       "<IPython.core.display.Latex object>"
      ]
     },
     "metadata": {},
     "output_type": "display_data"
    },
    {
     "data": {
      "text/plain": [
       "[-sqrt(2*a^2 + sqrt(4*a^4 - 1)),\n",
       " sqrt(2*a^2 + sqrt(4*a^4 - 1)),\n",
       " -sqrt(2*a^2 - sqrt(4*a^4 - 1)),\n",
       " sqrt(2*a^2 - sqrt(4*a^4 - 1))]"
      ]
     },
     "execution_count": 21,
     "metadata": {},
     "output_type": "execute_result"
    }
   ],
   "source": [
    "M =  Matrix([[1,  0, 0], [0, exp(I*pi*2/3), 0], [0, 0,  exp(I*4*pi/3)]]) + Matrix([[0, a, a], [a, 0, a], [a, a, 0]])\n",
    "M =  Matrix([[exp(2*pi*I * (1/8)),  0, 0, 0], [0, exp(2*pi*I * (3/8)), 0, 0], [0, 0, exp(2*pi*I * (5/8)), 0], [0, 0, 0, exp(2*pi*I * (7/8))]])\\\n",
    "     + Matrix([[0, a, 0, a], [a, 0, a, 0], [0, a, 0, a], [a, 0, a, 0]])\n",
    "pprint(M)\n",
    "v = M.eigenvalues()\n",
    "v = [vv.full_simplify() for vv in v]\n",
    "v"
   ]
  },
  {
   "cell_type": "code",
   "execution_count": 33,
   "metadata": {
    "vscode": {
     "languageId": "python"
    }
   },
   "outputs": [
    {
     "data": {
      "image/png": "[encoded data removed]",
      "text/plain": [
       "<Figure size 1440x1440 with 1 Axes>"
      ]
     },
     "metadata": {
      "needs_background": "light"
     },
     "output_type": "display_data"
    }
   ],
   "source": [
    "import numpy as np\n",
    "import matplotlib.pyplot as plt\n",
    " \n",
    "# aa = -1/4**(1/3) + np.linspace(-1, 1, 101)\n",
    "aa = np.linspace(1,  0.7, 10001) + 0j\n",
    "vv = [[complex(V.subs(a==A).numerical_approx()) for A in aa]for V in v]\n",
    "vvx = [[V.real for V in v] for v in vv]\n",
    "vvy = [[V.imag for V in v] for v in vv]\n",
    "\n",
    "fig, ax = plt.subplots(figsize=(20, 20))\n",
    "\n",
    "for i in range(len(vvx)):\n",
    "    ax.plot(vvx[i], vvy[i], \"--\")"
   ]
  },
  {
   "cell_type": "code",
   "execution_count": 169,
   "metadata": {
    "vscode": {
     "languageId": "python"
    }
   },
   "outputs": [
    {
     "data": {
      "image/png": "[encoded data removed]",
      "text/plain": [
       "<Figure size 432x288 with 1 Axes>"
      ]
     },
     "metadata": {
      "needs_background": "light"
     },
     "output_type": "display_data"
    }
   ],
   "source": [
    "aa = -1/4**(1/3) + np.linspace(-0.1, 0.1, 11)\n",
    "vv = [[complex(V.subs(a==A).numerical_approx()) for A in aa]for V in v]\n",
    "vvx = [[V.real for V in v] for v in vv]\n",
    "vvy = [[V.imag for V in v] for v in vv]\n",
    "\n",
    "for i in range(len(vvx)):\n",
    "    plt.plot(vvx[i], vvy[i])\n"
   ]
  },
  {
   "cell_type": "code",
   "execution_count": null,
   "metadata": {
    "vscode": {
     "languageId": "python"
    }
   },
   "outputs": [],
   "source": [
    "[pprint(vv.subs(a==-1/4**(1/3)-0.001).full_simplify().numerical_approx()) for vv in v]"
   ]
  },
  {
   "cell_type": "code",
   "execution_count": 158,
   "metadata": {
    "vscode": {
     "languageId": "python"
    }
   },
   "outputs": [
    {
     "data": {
      "text/plain": [
       "0.250000000000000 - 2.77555756156289e-17*I"
      ]
     },
     "execution_count": 158,
     "metadata": {},
     "output_type": "execute_result"
    }
   ],
   "source": [
    "((exp(I*4*pi/3)*1/4**(1/3))**3 ).numerical_approx()"
   ]
  },
  {
   "cell_type": "code",
   "execution_count": null,
   "metadata": {
    "vscode": {
     "languageId": "python"
    }
   },
   "outputs": [],
   "source": []
  }
 ],
 "metadata": {
  "kernelspec": {
   "display_name": "SageMath 9.5",
   "language": "sage",
   "name": "sagemath"
  },
  "language_info": {
   "codemirror_mode": {
    "name": "ipython",
    "version": 3
   },
   "file_extension": ".py",
   "mimetype": "text/x-python",
   "name": "sage",
   "nbconvert_exporter": "python",
   "pygments_lexer": "ipython3",
   "version": "3.10.6"
  },
  "orig_nbformat": 4
 },
 "nbformat": 4,
 "nbformat_minor": 2
}
