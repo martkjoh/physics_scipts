{
 "cells": [
  {
   "cell_type": "code",
   "execution_count": null,
   "metadata": {},
   "outputs": [],
   "source": [
    "from sympy import Matrix\n",
    "from sympy import symbols, diff, cos, sin, simplify, Rational, expand, fraction, oo, ratsimp, sqrt, eye, factor\n",
    "from sympy.core.symbol import Symbol\n",
    "from sympy.simplify.radsimp import collect_sqrt\n",
    "\n",
    "\n",
    "import numpy as np\n",
    "import sympy as sp\n",
    "\n",
    "from IPython.display import display, Latex\n",
    "\n",
    "\n",
    "def pr(T):\n",
    "    if len(np.shape(T))==2:\n",
    "        return display(Latex(\"$$\" + sp.latex(Matrix(T)) +\"$$\"))\n",
    "    return display(Latex(\"$$\" + sp.latex(T) +\"$$\"))\n",
    "\n",
    "def smp(A, f=simplify):\n",
    "    n, m = np.shape(A)\n",
    "    B = np.empty_like(A)\n",
    "    for i in range(n):\n",
    "        for j in range(m):\n",
    "            B[i, j] = f(A[i,j])\n",
    "    return B\n",
    "\n",
    "\n",
    "def smp3(A, f=ratsimp):\n",
    "    n, m, l = np.shape(A)\n",
    "    B = np.empty_like(A)\n",
    "    for i in range(n):\n",
    "        for j in range(m):\n",
    "            for k in range(l):\n",
    "                B[i, j, k] = f(A[i,j, k])\n",
    "    return B"
   ]
  },
  {
   "cell_type": "code",
   "execution_count": 2,
   "metadata": {},
   "outputs": [
    {
     "data": {
      "text/latex": [
       "$$\\left[\\begin{matrix}3 \\bar\\varphi_{1}^{2} + \\bar\\varphi_{2}^{2} + \\theta + q^{2} & \\alpha + 2 \\bar\\varphi_{1} \\bar\\varphi_{2}\\\\- \\alpha + 2 \\bar\\varphi_{1} \\bar\\varphi_{2} & \\bar\\varphi_{1}^{2} + 3 \\bar\\varphi_{2}^{2} + \\theta + q^{2}\\end{matrix}\\right]$$"
      ],
      "text/plain": [
       "<IPython.core.display.Latex object>"
      ]
     },
     "metadata": {},
     "output_type": "display_data"
    }
   ],
   "source": [
    "q, a, p1, p2 = symbols('q, \\\\alpha, \\\\bar\\\\varphi_1, \\\\bar\\\\varphi_2', real=True, positive=True)\n",
    "t = symbols('\\\\theta', real=True)\n",
    "\n",
    "M11 = q**2 + t + 3 * p1**2 + p2**2\n",
    "M22 = q**2 + t + 3 * p2**2 + p1**2\n",
    "M12 = a + 2*p1*p2\n",
    "M21 = -a + 2*p1*p2\n",
    "M = np.array([[M11, M12], [M21, M22]])\n",
    "pr(M)\n"
   ]
  },
  {
   "cell_type": "code",
   "execution_count": 94,
   "metadata": {},
   "outputs": [
    {
     "data": {
      "text/latex": [
       "$$2 \\bar\\varphi_{1}^{2} + 2 \\bar\\varphi_{2}^{2} + \\theta + q^{2} - \\sqrt{- \\alpha + \\bar\\varphi_{1}^{2} + \\bar\\varphi_{2}^{2}} \\sqrt{\\alpha + \\bar\\varphi_{1}^{2} + \\bar\\varphi_{2}^{2}}$$"
      ],
      "text/plain": [
       "<IPython.core.display.Latex object>"
      ]
     },
     "metadata": {},
     "output_type": "display_data"
    },
    {
     "data": {
      "text/latex": [
       "$\\displaystyle \\left[\\begin{matrix}\\bar\\varphi_{1}^{2} - \\bar\\varphi_{2}^{2} - \\sqrt{- \\alpha^{2} + \\bar\\varphi_{1}^{4} + 2 \\bar\\varphi_{1}^{2} \\bar\\varphi_{2}^{2} + \\bar\\varphi_{2}^{4}} & - \\alpha + 2 \\bar\\varphi_{1} \\bar\\varphi_{2}\\end{matrix}\\right]$"
      ],
      "text/plain": [
       "Matrix([[\\bar\\varphi_1**2 - \\bar\\varphi_2**2 - sqrt(-\\alpha**2 + \\bar\\varphi_1**4 + 2*\\bar\\varphi_1**2*\\bar\\varphi_2**2 + \\bar\\varphi_2**4), -\\alpha + 2*\\bar\\varphi_1*\\bar\\varphi_2]])"
      ]
     },
     "execution_count": 94,
     "metadata": {},
     "output_type": "execute_result"
    }
   ],
   "source": [
    "e = Matrix(M).eigenvects()\n",
    "u = e[0][2][0].T * (-a + 2*p1*p2)\n",
    "u = simplify(u)\n",
    "pr(e[0][0])\n",
    "u"
   ]
  },
  {
   "cell_type": "code",
   "execution_count": 95,
   "metadata": {},
   "outputs": [
    {
     "data": {
      "text/latex": [
       "$\\displaystyle \\left[\\begin{matrix}\\bar\\varphi_{1}^{2} - \\bar\\varphi_{2}^{2} - \\sqrt{- \\alpha^{2} + \\bar\\varphi_{1}^{4} + 2 \\bar\\varphi_{1}^{2} \\bar\\varphi_{2}^{2} + \\bar\\varphi_{2}^{4}} & - \\alpha + 2 \\bar\\varphi_{1} \\bar\\varphi_{2}\\end{matrix}\\right]$"
      ],
      "text/plain": [
       "Matrix([[\\bar\\varphi_1**2 - \\bar\\varphi_2**2 - sqrt(-\\alpha**2 + \\bar\\varphi_1**4 + 2*\\bar\\varphi_1**2*\\bar\\varphi_2**2 + \\bar\\varphi_2**4), -\\alpha + 2*\\bar\\varphi_1*\\bar\\varphi_2]])"
      ]
     },
     "execution_count": 95,
     "metadata": {},
     "output_type": "execute_result"
    }
   ],
   "source": [
    "e = Matrix(M).eigenvects()\n",
    "u2 = e[0][2][0].T * (-a + 2*p1*p2)\n",
    "u2 = simplify(u2)\n",
    "u2"
   ]
  },
  {
   "cell_type": "code",
   "execution_count": 96,
   "metadata": {},
   "outputs": [
    {
     "data": {
      "text/latex": [
       "$$\\left[\\begin{matrix}\\frac{\\bar\\varphi_{1}^{2} - \\bar\\varphi_{2}^{2} - \\sqrt{- \\alpha^{2} + \\bar\\varphi_{1}^{4} + 2 \\bar\\varphi_{1}^{2} \\bar\\varphi_{2}^{2} + \\bar\\varphi_{2}^{4}}}{\\sqrt{\\left(- \\alpha + 2 \\bar\\varphi_{1} \\bar\\varphi_{2}\\right)^{2} + \\left(\\bar\\varphi_{1}^{2} - \\bar\\varphi_{2}^{2} - \\sqrt{- \\alpha^{2} + \\bar\\varphi_{1}^{4} + 2 \\bar\\varphi_{1}^{2} \\bar\\varphi_{2}^{2} + \\bar\\varphi_{2}^{4}}\\right)^{2}}} & \\frac{- \\alpha + 2 \\bar\\varphi_{1} \\bar\\varphi_{2}}{\\sqrt{\\left(- \\alpha + 2 \\bar\\varphi_{1} \\bar\\varphi_{2}\\right)^{2} + \\left(\\bar\\varphi_{1}^{2} - \\bar\\varphi_{2}^{2} - \\sqrt{- \\alpha^{2} + \\bar\\varphi_{1}^{4} + 2 \\bar\\varphi_{1}^{2} \\bar\\varphi_{2}^{2} + \\bar\\varphi_{2}^{4}}\\right)^{2}}}\\\\\\frac{- \\alpha + 2 \\bar\\varphi_{1} \\bar\\varphi_{2}}{\\sqrt{\\left(- \\alpha + 2 \\bar\\varphi_{1} \\bar\\varphi_{2}\\right)^{2} + \\left(\\bar\\varphi_{1}^{2} - \\bar\\varphi_{2}^{2} - \\sqrt{- \\alpha^{2} + \\bar\\varphi_{1}^{4} + 2 \\bar\\varphi_{1}^{2} \\bar\\varphi_{2}^{2} + \\bar\\varphi_{2}^{4}}\\right)^{2}}} & \\frac{- \\bar\\varphi_{1}^{2} + \\bar\\varphi_{2}^{2} + \\sqrt{- \\alpha^{2} + \\bar\\varphi_{1}^{4} + 2 \\bar\\varphi_{1}^{2} \\bar\\varphi_{2}^{2} + \\bar\\varphi_{2}^{4}}}{\\sqrt{\\left(- \\alpha + 2 \\bar\\varphi_{1} \\bar\\varphi_{2}\\right)^{2} + \\left(\\bar\\varphi_{1}^{2} - \\bar\\varphi_{2}^{2} - \\sqrt{- \\alpha^{2} + \\bar\\varphi_{1}^{4} + 2 \\bar\\varphi_{1}^{2} \\bar\\varphi_{2}^{2} + \\bar\\varphi_{2}^{4}}\\right)^{2}}}\\end{matrix}\\right]$$"
      ],
      "text/plain": [
       "<IPython.core.display.Latex object>"
      ]
     },
     "metadata": {},
     "output_type": "display_data"
    }
   ],
   "source": [
    "U = np.array([[u[0], u[1]], [u[1], -u[0]]]) / sqrt((u@u.T)[0])\n",
    "pr(U)"
   ]
  },
  {
   "cell_type": "code",
   "execution_count": 97,
   "metadata": {},
   "outputs": [
    {
     "data": {
      "text/latex": [
       "$$\\left[\\begin{matrix}2 \\bar\\varphi_{1}^{2} + 2 \\bar\\varphi_{2}^{2} + \\theta + q^{2} - \\sqrt{- \\alpha^{2} + \\bar\\varphi_{1}^{4} + 2 \\bar\\varphi_{1}^{2} \\bar\\varphi_{2}^{2} + \\bar\\varphi_{2}^{4}} & - 2 \\alpha\\\\0 & 2 \\bar\\varphi_{1}^{2} + 2 \\bar\\varphi_{2}^{2} + \\theta + q^{2} + \\sqrt{- \\alpha^{2} + \\bar\\varphi_{1}^{4} + 2 \\bar\\varphi_{1}^{2} \\bar\\varphi_{2}^{2} + \\bar\\varphi_{2}^{4}}\\end{matrix}\\right]$$"
      ],
      "text/plain": [
       "<IPython.core.display.Latex object>"
      ]
     },
     "metadata": {},
     "output_type": "display_data"
    }
   ],
   "source": [
    "R = smp(U@M@U)\n",
    "pr(R)"
   ]
  },
  {
   "cell_type": "code",
   "execution_count": 100,
   "metadata": {},
   "outputs": [],
   "source": [
    "l1, l2 = symbols('\\\\lambda_+, \\lambda_-', real=True)\n",
    "R = np.array([[l2, -2*a], [0, l1]])"
   ]
  },
  {
   "cell_type": "code",
   "execution_count": 101,
   "metadata": {},
   "outputs": [
    {
     "data": {
      "text/latex": [
       "$$\\left[\\begin{matrix}T \\lambda_{-} q^{2} - i \\omega \\zeta & - 2 T \\alpha q^{2}\\\\0 & T \\lambda_{+} q^{2} - i \\omega \\zeta\\end{matrix}\\right]$$"
      ],
      "text/plain": [
       "<IPython.core.display.Latex object>"
      ]
     },
     "metadata": {},
     "output_type": "display_data"
    },
    {
     "data": {
      "text/latex": [
       "$$\\left[\\begin{matrix}\\frac{1}{T \\lambda_{-} q^{2} - i \\omega \\zeta} & \\frac{2 T \\alpha q^{2}}{\\left(T \\lambda_{+} q^{2} - i \\omega \\zeta\\right) \\left(T \\lambda_{-} q^{2} - i \\omega \\zeta\\right)}\\\\0 & \\frac{1}{T \\lambda_{+} q^{2} - i \\omega \\zeta}\\end{matrix}\\right]$$"
      ],
      "text/plain": [
       "<IPython.core.display.Latex object>"
      ]
     },
     "metadata": {},
     "output_type": "display_data"
    }
   ],
   "source": [
    "w, z = symbols('\\\\omega, \\\\zeta', real=True, positive=True)\n",
    "T = symbols('T', real=True)\n",
    "I = sp.I\n",
    "Ginv = -I*z*w*eye(2) + q**2 * T * R\n",
    "pr(Ginv)\n",
    "G = Ginv.inv()\n",
    "G = smp(G)\n",
    "G = smp(G, simplify)\n",
    "G = smp(G, lambda a : sp.collect(a, q))\n",
    "G = smp(G, factor)\n",
    "pr(G)"
   ]
  },
  {
   "cell_type": "code",
   "execution_count": 8,
   "metadata": {},
   "outputs": [
    {
     "data": {
      "text/latex": [
       "$$\\left[\\begin{matrix}\\frac{2 T q^{2} \\left(4 T^{2} \\alpha^{2} q^{4} + T^{2} \\lambda_{-}^{2} q^{4} + \\omega^{2} \\zeta^{2}\\right)}{\\left(T \\lambda_{+} q^{2} - i \\omega \\zeta\\right) \\left(T \\lambda_{+} q^{2} + i \\omega \\zeta\\right) \\left(T \\lambda_{-} q^{2} - i \\omega \\zeta\\right) \\left(T \\lambda_{-} q^{2} + i \\omega \\zeta\\right)} & \\frac{4 T^{2} \\alpha q^{4}}{\\left(T \\lambda_{+} q^{2} - i \\omega \\zeta\\right) \\left(T \\lambda_{-} q^{2} - i \\omega \\zeta\\right) \\left(T \\lambda_{-} q^{2} + i \\omega \\zeta\\right)}\\\\\\frac{4 T^{2} \\alpha q^{4}}{\\left(T \\lambda_{+} q^{2} + i \\omega \\zeta\\right) \\left(T \\lambda_{-} q^{2} - i \\omega \\zeta\\right) \\left(T \\lambda_{-} q^{2} + i \\omega \\zeta\\right)} & \\frac{2 T q^{2}}{\\left(T \\lambda_{-} q^{2} - i \\omega \\zeta\\right) \\left(T \\lambda_{-} q^{2} + i \\omega \\zeta\\right)}\\end{matrix}\\right]$$"
      ],
      "text/plain": [
       "<IPython.core.display.Latex object>"
      ]
     },
     "metadata": {},
     "output_type": "display_data"
    }
   ],
   "source": [
    "dagg = lambda A : sp.conjugate(sp.transpose(A))\n",
    "C = 2 * q**2 * T * G@dagg(G)\n",
    "C = smp(C, factor)\n",
    "# C = smp(C)\n",
    "pr(C)"
   ]
  },
  {
   "cell_type": "code",
   "execution_count": 9,
   "metadata": {},
   "outputs": [],
   "source": [
    "g = np.zeros((2, 2, 2), dtype=Symbol)\n",
    "\n",
    "g[0, 0, 0] = 3*p1\n",
    "g[0, 1, 1] = p1\n",
    "g[0, 0, 1] = p2\n",
    "g[0, 1, 0] = p2\n",
    "g[1, 0, 0] = p2\n",
    "g[1, 1, 1] = 3*p2\n",
    "g[1, 1, 0] = p1 \n",
    "g[1, 0, 1] = p1"
   ]
  },
  {
   "cell_type": "code",
   "execution_count": 10,
   "metadata": {},
   "outputs": [
    {
     "data": {
      "text/latex": [
       "$$\\left[\\begin{matrix}3 \\bar\\varphi_{1} & \\bar\\varphi_{2}\\\\\\bar\\varphi_{2} & \\bar\\varphi_{1}\\end{matrix}\\right]$$"
      ],
      "text/plain": [
       "<IPython.core.display.Latex object>"
      ]
     },
     "metadata": {},
     "output_type": "display_data"
    },
    {
     "data": {
      "text/latex": [
       "$$\\left[\\begin{matrix}\\bar\\varphi_{2} & \\bar\\varphi_{1}\\\\\\bar\\varphi_{1} & 3 \\bar\\varphi_{2}\\end{matrix}\\right]$$"
      ],
      "text/plain": [
       "<IPython.core.display.Latex object>"
      ]
     },
     "metadata": {},
     "output_type": "display_data"
    }
   ],
   "source": [
    "pr(g[0])\n",
    "pr(g[1])"
   ]
  },
  {
   "cell_type": "code",
   "execution_count": 66,
   "metadata": {},
   "outputs": [
    {
     "data": {
      "text/latex": [
       "$$\\left[\\begin{matrix}\\cos{\\left(t \\right)} & \\sin{\\left(t \\right)}\\\\\\sin{\\left(t \\right)} & - \\cos{\\left(t \\right)}\\end{matrix}\\right]$$"
      ],
      "text/plain": [
       "<IPython.core.display.Latex object>"
      ]
     },
     "metadata": {},
     "output_type": "display_data"
    }
   ],
   "source": [
    "t = Symbol('t')\n",
    "v1 = cos(t)\n",
    "v2 = sin(t)\n",
    "# v1, v2 = symbols('v_1 v_2')\n",
    "U = np.array([[v1, v2], [v2, -v1]])\n",
    "pr(U)"
   ]
  },
  {
   "cell_type": "code",
   "execution_count": 86,
   "metadata": {},
   "outputs": [
    {
     "data": {
      "text/latex": [
       "$$\\left[\\begin{matrix}3 \\bar\\varphi_{1} \\cos{\\left(t \\right)} + 3 \\bar\\varphi_{2} \\sin{\\left(t \\right)} & \\bar\\varphi_{1} \\sin{\\left(t \\right)} - \\bar\\varphi_{2} \\cos{\\left(t \\right)}\\\\\\bar\\varphi_{1} \\sin{\\left(t \\right)} - \\bar\\varphi_{2} \\cos{\\left(t \\right)} & \\bar\\varphi_{1} \\cos{\\left(t \\right)} + \\bar\\varphi_{2} \\sin{\\left(t \\right)}\\end{matrix}\\right]$$"
      ],
      "text/plain": [
       "<IPython.core.display.Latex object>"
      ]
     },
     "metadata": {},
     "output_type": "display_data"
    },
    {
     "data": {
      "text/latex": [
       "$$\\left[\\begin{matrix}\\bar\\varphi_{1} \\sin{\\left(t \\right)} - \\bar\\varphi_{2} \\cos{\\left(t \\right)} & \\bar\\varphi_{1} \\cos{\\left(t \\right)} + \\bar\\varphi_{2} \\sin{\\left(t \\right)}\\\\\\bar\\varphi_{1} \\cos{\\left(t \\right)} + \\bar\\varphi_{2} \\sin{\\left(t \\right)} & 3 \\bar\\varphi_{1} \\sin{\\left(t \\right)} - 3 \\bar\\varphi_{2} \\cos{\\left(t \\right)}\\end{matrix}\\right]$$"
      ],
      "text/plain": [
       "<IPython.core.display.Latex object>"
      ]
     },
     "metadata": {},
     "output_type": "display_data"
    }
   ],
   "source": [
    "def app(g, U):\n",
    "    gp = np.zeros_like(g)\n",
    "    for i in range(2):\n",
    "        for j in range(2):\n",
    "            for k in range(2):\n",
    "                for a in range(2):\n",
    "                    for b in range(2):\n",
    "                        for c in range(2):\n",
    "                            gp[i, j, k] += U[i, a] * U[j, b] * U[k, c] * g[a, b, c]\n",
    "                gp[i, j, k] = simplify(gp[i, j, k])\n",
    "    return gp\n",
    "\n",
    "gp = app(g, U)\n",
    "pr(gp[0])\n",
    "pr(gp[1])"
   ]
  },
  {
   "cell_type": "code",
   "execution_count": 87,
   "metadata": {},
   "outputs": [
    {
     "data": {
      "text/latex": [
       "$$\\left[\\begin{matrix}3 \\bar\\varphi \\sin{\\left(t + \\frac{\\pi}{4} \\right)} & - \\bar\\varphi \\cos{\\left(t + \\frac{\\pi}{4} \\right)}\\\\- \\bar\\varphi \\cos{\\left(t + \\frac{\\pi}{4} \\right)} & \\bar\\varphi \\sin{\\left(t + \\frac{\\pi}{4} \\right)}\\end{matrix}\\right]$$"
      ],
      "text/plain": [
       "<IPython.core.display.Latex object>"
      ]
     },
     "metadata": {},
     "output_type": "display_data"
    },
    {
     "data": {
      "text/latex": [
       "$$\\left[\\begin{matrix}- \\bar\\varphi \\cos{\\left(t + \\frac{\\pi}{4} \\right)} & \\bar\\varphi \\sin{\\left(t + \\frac{\\pi}{4} \\right)}\\\\\\bar\\varphi \\sin{\\left(t + \\frac{\\pi}{4} \\right)} & - 3 \\bar\\varphi \\cos{\\left(t + \\frac{\\pi}{4} \\right)}\\end{matrix}\\right]$$"
      ],
      "text/plain": [
       "<IPython.core.display.Latex object>"
      ]
     },
     "metadata": {},
     "output_type": "display_data"
    }
   ],
   "source": [
    "p = symbols('\\\\bar\\\\varphi')\n",
    "gp2 = smp3(gp, lambda k: k.subs(p1,p/sqrt(2)))\n",
    "gp2 = smp3(gp2, lambda k: k.subs(p2,p/sqrt(2)))\n",
    "gp2 = smp3(gp2, simplify)\n",
    "pr(gp2[0])\n",
    "pr(gp2[1])"
   ]
  },
  {
   "cell_type": "code",
   "execution_count": 88,
   "metadata": {},
   "outputs": [
    {
     "data": {
      "text/latex": [
       "$$\\left[\\begin{matrix}3 \\cos{\\left(s - t \\right)} & - \\sin{\\left(s - t \\right)}\\\\- \\sin{\\left(s - t \\right)} & \\cos{\\left(s - t \\right)}\\end{matrix}\\right]$$"
      ],
      "text/plain": [
       "<IPython.core.display.Latex object>"
      ]
     },
     "metadata": {},
     "output_type": "display_data"
    },
    {
     "data": {
      "text/latex": [
       "$$\\left[\\begin{matrix}- \\sin{\\left(s - t \\right)} & \\cos{\\left(s - t \\right)}\\\\\\cos{\\left(s - t \\right)} & - 3 \\sin{\\left(s - t \\right)}\\end{matrix}\\right]$$"
      ],
      "text/plain": [
       "<IPython.core.display.Latex object>"
      ]
     },
     "metadata": {},
     "output_type": "display_data"
    }
   ],
   "source": [
    "s = symbols('s')\n",
    "gp3 = smp3(gp, lambda k: k.subs(p1,cos(s)))\n",
    "gp3 = smp3(gp3, lambda k: k.subs(p2, sin(s)))\n",
    "gp3 = smp3(gp3, simplify)\n",
    "pr(gp3[0])\n",
    "pr(gp3[1])"
   ]
  }
 ],
 "metadata": {
  "kernelspec": {
   "display_name": "Python 3",
   "language": "python",
   "name": "python3"
  },
  "language_info": {
   "codemirror_mode": {
    "name": "ipython",
    "version": 3
   },
   "file_extension": ".py",
   "mimetype": "text/x-python",
   "name": "python",
   "nbconvert_exporter": "python",
   "pygments_lexer": "ipython3",
   "version": "3.10.6"
  },
  "orig_nbformat": 4
 },
 "nbformat": 4,
 "nbformat_minor": 2
}
