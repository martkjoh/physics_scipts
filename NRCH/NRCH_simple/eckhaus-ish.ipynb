{
 "cells": [
  {
   "cell_type": "code",
   "execution_count": 119,
   "metadata": {
    "vscode": {
     "languageId": "python"
    }
   },
   "outputs": [],
   "source": [
    "from IPython.display import display, Latex\n",
    "\n",
    "def pprint(expr):\n",
    "    return display(Latex(\"$$\" + latex(expr) +\"$$\"))"
   ]
  },
  {
   "cell_type": "code",
   "execution_count": 120,
   "metadata": {
    "vscode": {
     "languageId": "python"
    }
   },
   "outputs": [],
   "source": [
    "r, k, kq, a = var('r, k, kq, a')\n",
    "q2 = var('q2', latex_name='q^2')"
   ]
  },
  {
   "cell_type": "code",
   "execution_count": 121,
   "metadata": {
    "vscode": {
     "languageId": "python"
    }
   },
   "outputs": [
    {
     "data": {
      "text/latex": [
       "$$ -4 \\, {\\left(k^{2} - r\\right)} k^{2} - 2 \\, k^{2} {q^2} - {\\left(2 \\, k^{2} - {q^2} - r\\right)} {q^2} + \\sqrt{-a^{2} {q^2}^{2} - {\\left(k^{2} - r\\right)}^{2} {\\left(16 \\, \\mathit{kq}^{2} - {q^2}^{2}\\right)}} $$"
      ],
      "text/plain": [
       "<IPython.core.display.Latex object>"
      ]
     },
     "metadata": {},
     "output_type": "display_data"
    }
   ],
   "source": [
    "l = \\\n",
    "    q2 * (r + q2 - 2 * k**2) \\\n",
    "    + 4 * k**2 * (r - k**2) \\\n",
    "    - 2 * q2 * k**2 \\\n",
    "    + sqrt((r - k**2)**2 * (q2**2 - (4 * kq)**2) - a**2 * q2**2)\n",
    "pprint(l)"
   ]
  },
  {
   "cell_type": "code",
   "execution_count": 122,
   "metadata": {
    "vscode": {
     "languageId": "python"
    }
   },
   "outputs": [
    {
     "data": {
      "text/latex": [
       "$$ -2 \\, {\\left(Q^{2} + k^{2} + 2 \\, {\\vec k \\cdot \\vec Q}\\right)} k^{2} - 4 \\, {\\left(k^{2} - r\\right)} k^{2} + {\\left(Q^{2} + k^{2} + 2 \\, {\\vec k \\cdot \\vec Q}\\right)} {\\left(Q^{2} - k^{2} + 2 \\, {\\vec k \\cdot \\vec Q} + r\\right)} + \\sqrt{-{\\left(Q^{2} + k^{2} + 2 \\, {\\vec k \\cdot \\vec Q}\\right)}^{2} a^{2} + {\\left({\\left(Q^{2} + k^{2} + 2 \\, {\\vec k \\cdot \\vec Q}\\right)}^{2} - 16 \\, {\\left(k^{2} + {\\vec k \\cdot \\vec Q}\\right)}^{2}\\right)} {\\left(k^{2} - r\\right)}^{2}} $$"
      ],
      "text/plain": [
       "<IPython.core.display.Latex object>"
      ]
     },
     "metadata": {},
     "output_type": "display_data"
    }
   ],
   "source": [
    "Q = var(\"Q\")\n",
    "kQ = var('kQ', latex_name='\\\\vec k \\\\cdot \\\\vec Q')\n",
    "l = l.subs(q2==k**2 + 2*kQ + Q**2).subs(kq== k**2 + kQ)\n",
    "pprint(l)"
   ]
  },
  {
   "cell_type": "code",
   "execution_count": 123,
   "metadata": {
    "vscode": {
     "languageId": "python"
    }
   },
   "outputs": [
    {
     "data": {
      "text/latex": [
       "$$ -7 \\, k^{4} + 5 \\, k^{2} r + \\sqrt{-15 \\, k^{8} + 30 \\, k^{6} r - a^{2} k^{4} - 15 \\, k^{4} r^{2}} + \\mathcal{O}\\left(t\\right) $$"
      ],
      "text/plain": [
       "<IPython.core.display.Latex object>"
      ]
     },
     "metadata": {},
     "output_type": "display_data"
    }
   ],
   "source": [
    "t = var('t')\n",
    "lt = l.subs(Q==t*Q).subs(kQ==t*kQ)\n",
    "ls = lt.series(t, 1).simplify_full()\n",
    "pprint(ls)"
   ]
  },
  {
   "cell_type": "code",
   "execution_count": 124,
   "metadata": {
    "vscode": {
     "languageId": "python"
    }
   },
   "outputs": [
    {
     "data": {
      "text/latex": [
       "$$ -\\frac{1575 \\, k^{16} + 210 \\, a^{2} k^{12} + 7 \\, a^{4} k^{8} + 6075 \\, k^{8} r^{4} - 1125 \\, k^{6} r^{5} - 150 \\, {\\left(87 \\, k^{10} + a^{2} k^{6}\\right)} r^{3} + 30 \\, {\\left(465 \\, k^{12} + 17 \\, a^{2} k^{8}\\right)} r^{2} + {\\left(450 \\, Q^{2} k^{14} + 60 \\, Q^{2} a^{2} k^{10} + 2 \\, Q^{2} a^{4} k^{6} - 225 \\, Q^{2} k^{4} r^{5} + 450 \\, {\\left(3 \\, Q^{2} k^{6} - 2 \\, k^{4} {\\vec k \\cdot \\vec Q}^{2}\\right)} r^{4} - 30 \\, {\\left(105 \\, Q^{2} k^{8} + Q^{2} a^{2} k^{4} - 120 \\, k^{6} {\\vec k \\cdot \\vec Q}^{2}\\right)} r^{3} - 4 \\, {\\left(225 \\, k^{12} + 30 \\, a^{2} k^{8} + a^{4} k^{4}\\right)} {\\vec k \\cdot \\vec Q}^{2} + 120 \\, {\\left(30 \\, Q^{2} k^{10} + Q^{2} a^{2} k^{6} - {\\left(45 \\, k^{8} + a^{2} k^{4}\\right)} {\\vec k \\cdot \\vec Q}^{2}\\right)} r^{2} - {\\left(2025 \\, Q^{2} k^{12} + 150 \\, Q^{2} a^{2} k^{8} + Q^{2} a^{4} k^{4} - 240 \\, {\\left(15 \\, k^{10} + a^{2} k^{6}\\right)} {\\vec k \\cdot \\vec Q}^{2}\\right)} r\\right)} t^{2} - 5 \\, {\\left(1485 \\, k^{14} + 114 \\, a^{2} k^{10} + a^{4} k^{6}\\right)} r + 2 \\, {\\left(1350 \\, k^{6} {\\vec k \\cdot \\vec Q} r^{4} - 225 \\, k^{4} {\\vec k \\cdot \\vec Q} r^{5} - 30 \\, {\\left(105 \\, k^{8} + a^{2} k^{4}\\right)} {\\vec k \\cdot \\vec Q} r^{3} + 120 \\, {\\left(30 \\, k^{10} + a^{2} k^{6}\\right)} {\\vec k \\cdot \\vec Q} r^{2} - {\\left(2025 \\, k^{12} + 150 \\, a^{2} k^{8} + a^{4} k^{4}\\right)} {\\vec k \\cdot \\vec Q} r + 2 \\, {\\left(225 \\, k^{14} + 30 \\, a^{2} k^{10} + a^{4} k^{6}\\right)} {\\vec k \\cdot \\vec Q}\\right)} t - {\\left(225 \\, k^{12} + 30 \\, a^{2} k^{8} - 900 \\, k^{6} r^{3} + a^{4} k^{4} + 225 \\, k^{4} r^{4} + 30 \\, {\\left(45 \\, k^{8} + a^{2} k^{4}\\right)} r^{2} - {\\left(15 \\, Q^{2} k^{10} - 14 \\, Q^{2} a^{2} k^{6} - Q^{2} a^{4} k^{2} + {\\left(15 \\, Q^{2} k^{2} + 8 \\, {\\vec k \\cdot \\vec Q}^{2}\\right)} r^{4} - 4 \\, {\\left(15 \\, Q^{2} k^{4} + 8 \\, k^{2} {\\vec k \\cdot \\vec Q}^{2}\\right)} r^{3} + 8 \\, {\\left(k^{8} - a^{2} k^{4}\\right)} {\\vec k \\cdot \\vec Q}^{2} + 2 \\, {\\left(45 \\, Q^{2} k^{6} - 7 \\, Q^{2} a^{2} k^{2} + 4 \\, {\\left(6 \\, k^{4} - a^{2}\\right)} {\\vec k \\cdot \\vec Q}^{2}\\right)} r^{2} - 4 \\, {\\left(15 \\, Q^{2} k^{8} - 7 \\, Q^{2} a^{2} k^{4} + 4 \\, {\\left(2 \\, k^{6} - a^{2} k^{2}\\right)} {\\vec k \\cdot \\vec Q}^{2}\\right)} r\\right)} t^{2} - 60 \\, {\\left(15 \\, k^{10} + a^{2} k^{6}\\right)} r - 2 \\, {\\left(420 \\, k^{4} {\\vec k \\cdot \\vec Q} r^{3} - 105 \\, k^{2} {\\vec k \\cdot \\vec Q} r^{4} - 2 \\, {\\left(315 \\, k^{6} + 11 \\, a^{2} k^{2}\\right)} {\\vec k \\cdot \\vec Q} r^{2} + 4 \\, {\\left(105 \\, k^{8} + 11 \\, a^{2} k^{4}\\right)} {\\vec k \\cdot \\vec Q} r - {\\left(105 \\, k^{10} + 22 \\, a^{2} k^{6} + a^{4} k^{2}\\right)} {\\vec k \\cdot \\vec Q}\\right)} t\\right)} \\sqrt{-15 \\, k^{8} + 30 \\, k^{6} r - a^{2} k^{4} - 15 \\, k^{4} r^{2}}}{225 \\, k^{12} + 30 \\, a^{2} k^{8} - 900 \\, k^{6} r^{3} + a^{4} k^{4} + 225 \\, k^{4} r^{4} + 30 \\, {\\left(45 \\, k^{8} + a^{2} k^{4}\\right)} r^{2} - 60 \\, {\\left(15 \\, k^{10} + a^{2} k^{6}\\right)} r} $$"
      ],
      "text/plain": [
       "<IPython.core.display.Latex object>"
      ]
     },
     "metadata": {},
     "output_type": "display_data"
    }
   ],
   "source": [
    "ls = lt.series(t,3).truncate()\n",
    "ls = ls.simplify_full().simplify_rational() \n",
    "pprint(ls)"
   ]
  },
  {
   "cell_type": "code",
   "execution_count": 125,
   "metadata": {
    "vscode": {
     "languageId": "python"
    }
   },
   "outputs": [
    {
     "data": {
      "text/latex": [
       "$$ -7 \\, k^{4} + 5 \\, k^{2} r + \\sqrt{-15 \\, k^{8} + 30 \\, k^{6} r - a^{2} k^{4} - 15 \\, k^{4} r^{2}} $$"
      ],
      "text/plain": [
       "<IPython.core.display.Latex object>"
      ]
     },
     "metadata": {},
     "output_type": "display_data"
    },
    {
     "data": {
      "text/latex": [
       "$$ -\\frac{2 \\, {\\left(60 \\, k^{4} {\\vec k \\cdot \\vec Q} r^{2} - 15 \\, k^{2} {\\vec k \\cdot \\vec Q} r^{3} - {\\left(75 \\, k^{6} + a^{2} k^{2}\\right)} {\\vec k \\cdot \\vec Q} r + 2 \\, {\\left(15 \\, k^{8} + a^{2} k^{4}\\right)} {\\vec k \\cdot \\vec Q} + \\sqrt{-15 \\, k^{8} + 30 \\, k^{6} r - a^{2} k^{4} - 15 \\, k^{4} r^{2}} {\\left(14 \\, k^{2} {\\vec k \\cdot \\vec Q} r - 7 \\, {\\vec k \\cdot \\vec Q} r^{2} - {\\left(7 \\, k^{4} + a^{2}\\right)} {\\vec k \\cdot \\vec Q}\\right)}\\right)}}{15 \\, k^{6} - 30 \\, k^{4} r + a^{2} k^{2} + 15 \\, k^{2} r^{2}} $$"
      ],
      "text/plain": [
       "<IPython.core.display.Latex object>"
      ]
     },
     "metadata": {},
     "output_type": "display_data"
    },
    {
     "data": {
      "text/latex": [
       "$$ -\\frac{450 \\, Q^{2} k^{14} + 60 \\, Q^{2} a^{2} k^{10} + 2 \\, Q^{2} a^{4} k^{6} - 225 \\, Q^{2} k^{4} r^{5} + 450 \\, {\\left(3 \\, Q^{2} k^{6} - 2 \\, k^{4} {\\vec k \\cdot \\vec Q}^{2}\\right)} r^{4} - 30 \\, {\\left(105 \\, Q^{2} k^{8} + Q^{2} a^{2} k^{4} - 120 \\, k^{6} {\\vec k \\cdot \\vec Q}^{2}\\right)} r^{3} - 4 \\, {\\left(225 \\, k^{12} + 30 \\, a^{2} k^{8} + a^{4} k^{4}\\right)} {\\vec k \\cdot \\vec Q}^{2} + 120 \\, {\\left(30 \\, Q^{2} k^{10} + Q^{2} a^{2} k^{6} - {\\left(45 \\, k^{8} + a^{2} k^{4}\\right)} {\\vec k \\cdot \\vec Q}^{2}\\right)} r^{2} - {\\left(2025 \\, Q^{2} k^{12} + 150 \\, Q^{2} a^{2} k^{8} + Q^{2} a^{4} k^{4} - 240 \\, {\\left(15 \\, k^{10} + a^{2} k^{6}\\right)} {\\vec k \\cdot \\vec Q}^{2}\\right)} r + {\\left(15 \\, Q^{2} k^{10} - 14 \\, Q^{2} a^{2} k^{6} - Q^{2} a^{4} k^{2} + {\\left(15 \\, Q^{2} k^{2} + 8 \\, {\\vec k \\cdot \\vec Q}^{2}\\right)} r^{4} - 4 \\, {\\left(15 \\, Q^{2} k^{4} + 8 \\, k^{2} {\\vec k \\cdot \\vec Q}^{2}\\right)} r^{3} + 8 \\, {\\left(k^{8} - a^{2} k^{4}\\right)} {\\vec k \\cdot \\vec Q}^{2} + 2 \\, {\\left(45 \\, Q^{2} k^{6} - 7 \\, Q^{2} a^{2} k^{2} + 4 \\, {\\left(6 \\, k^{4} - a^{2}\\right)} {\\vec k \\cdot \\vec Q}^{2}\\right)} r^{2} - 4 \\, {\\left(15 \\, Q^{2} k^{8} - 7 \\, Q^{2} a^{2} k^{4} + 4 \\, {\\left(2 \\, k^{6} - a^{2} k^{2}\\right)} {\\vec k \\cdot \\vec Q}^{2}\\right)} r\\right)} \\sqrt{-15 \\, k^{8} + 30 \\, k^{6} r - a^{2} k^{4} - 15 \\, k^{4} r^{2}}}{225 \\, k^{12} + 30 \\, a^{2} k^{8} - 900 \\, k^{6} r^{3} + a^{4} k^{4} + 225 \\, k^{4} r^{4} + 30 \\, {\\left(45 \\, k^{8} + a^{2} k^{4}\\right)} r^{2} - 60 \\, {\\left(15 \\, k^{10} + a^{2} k^{6}\\right)} r} $$"
      ],
      "text/plain": [
       "<IPython.core.display.Latex object>"
      ]
     },
     "metadata": {},
     "output_type": "display_data"
    }
   ],
   "source": [
    "pprint(ls.coefficient(t,0).simplify_full())\n",
    "pprint(ls.coefficient(t,1).simplify_full())\n",
    "pprint(ls.coefficient(t,2).simplify_full())"
   ]
  },
  {
   "cell_type": "code",
   "execution_count": 126,
   "metadata": {
    "vscode": {
     "languageId": "python"
    }
   },
   "outputs": [
    {
     "data": {
      "text/plain": [
       "255"
      ]
     },
     "execution_count": 126,
     "metadata": {},
     "output_type": "execute_result"
    }
   ],
   "source": [
    "255"
   ]
  },
  {
   "cell_type": "code",
   "execution_count": 96,
   "metadata": {
    "vscode": {
     "languageId": "python"
    }
   },
   "outputs": [
    {
     "data": {
      "text/plain": [
       "Q^4*t^20 + 4*Q^2*kQ*t^15 - (2*Q^2*k^2*t^6 - Q^2*r*t^6 - 4*kQ^2*t^6)*t^4 - 7*k^4 + 5*k^2*r - 2*(2*k^2*kQ*t^3 - kQ*r*t^3)*t^2 + sqrt((Q^4*k^4*t^12 - 2*Q^4*k^2*r*t^12 - Q^4*a^2*t^12 + Q^4*r^2*t^12)*t^8 - 15*k^8 + 30*k^6*r - 4*(2*Q^2*k^2*kQ*r*t^9 - Q^2*kQ*r^2*t^9 - (Q^2*k^4*t^6 - Q^2*a^2*t^6)*kQ*t^3)*t^6 - a^2*k^4 - 15*k^4*r^2 + 2*(Q^2*k^6*t^6 - Q^2*a^2*k^2*t^6 - 2*(3*k^4 + a^2)*kQ^2*t^6 + (Q^2*k^2*t^6 - 6*kQ^2*t^6)*r^2 - 2*(Q^2*k^4*t^6 - 6*k^2*kQ^2*t^6)*r)*t^4 + 4*(14*k^4*kQ*r*t^3 - 7*k^2*kQ*r^2*t^3 - (7*k^6 + a^2*k^2)*kQ*t^3)*t^2)"
      ]
     },
     "execution_count": 96,
     "metadata": {},
     "output_type": "execute_result"
    }
   ],
   "source": [
    "lt"
   ]
  },
  {
   "cell_type": "code",
   "execution_count": 72,
   "metadata": {
    "vscode": {
     "languageId": "python"
    }
   },
   "outputs": [
    {
     "data": {
      "text/latex": [
       "$$ -2 \\, Q^{2} k^{2} - 7 \\, k^{4} - 4 \\, k^{2} {\\vec k \\cdot \\vec Q} + {\\left(Q^{2} + 5 \\, k^{2} + 2 \\, {\\vec k \\cdot \\vec Q}\\right)} r + \\sqrt{2 \\, Q^{2} k^{6} - 15 \\, k^{8} - 2 \\, Q^{2} a^{2} k^{2} - a^{2} k^{4} + {\\left(Q^{4} - a^{2}\\right)} k^{4} + {\\left(2 \\, Q^{2} k^{2} - 15 \\, k^{4} - 28 \\, k^{2} {\\vec k \\cdot \\vec Q} - 12 \\, {\\vec k \\cdot \\vec Q}^{2}\\right)} r^{2} - 4 \\, {\\left(7 \\, k^{6} + a^{2} k^{2}\\right)} {\\vec k \\cdot \\vec Q} - 2 \\, {\\left(2 \\, Q^{2} k^{4} - 15 \\, k^{6} - 28 \\, k^{4} {\\vec k \\cdot \\vec Q} - 12 \\, k^{2} {\\vec k \\cdot \\vec Q}^{2}\\right)} r} $$"
      ],
      "text/plain": [
       "<IPython.core.display.Latex object>"
      ]
     },
     "metadata": {},
     "output_type": "display_data"
    }
   ],
   "source": [
    "l2 =- 2*Q^2*k^2 - 7*k^4 + 4*(- k^2)*kQ  + (Q^2 + 5*k^2 + 2*kQ)*r \\\n",
    "    + sqrt(2*Q^2*k^6 - 15*k^8 - 2*Q^2*a^2*k^2 + (- a^2)*k^4 \n",
    "    + (Q^4 - a^2)*k^4 \n",
    "    + ( 2*Q^2*k^2 - 15*k^4 + 4*(- 7*k^2)*kQ - 12*kQ^2)*r^2\n",
    "    + 4*(- 7*k^6 - a^2*k^2)*kQ \n",
    "    - 2*( 2*Q^2*k^4 - 15*k^6 - 12*k^2*kQ^2 + 4*( - 7*k^4)*kQ)*r\n",
    "    )\n",
    "pprint(l2.simplify())"
   ]
  },
  {
   "cell_type": "code",
   "execution_count": 74,
   "metadata": {
    "vscode": {
     "languageId": "python"
    }
   },
   "outputs": [
    {
     "data": {
      "text/latex": [
       "$$ -7 \\, k^{4} - {\\left(2 \\, k^{2} - r + \\frac{\\sqrt{-15 \\, k^{8} - 28 \\, k^{6} {\\vec k \\cdot \\vec Q} + 30 \\, k^{6} r - 2 \\, a^{2} k^{4} + 56 \\, k^{4} {\\vec k \\cdot \\vec Q} r - 15 \\, k^{4} r^{2} - 4 \\, a^{2} k^{2} {\\vec k \\cdot \\vec Q} + 24 \\, k^{2} {\\vec k \\cdot \\vec Q}^{2} r - 28 \\, k^{2} {\\vec k \\cdot \\vec Q} r^{2} - 12 \\, {\\vec k \\cdot \\vec Q}^{2} r^{2}} {\\left(k^{6} - 2 \\, k^{4} r - a^{2} k^{2} + k^{2} r^{2}\\right)}}{15 \\, k^{8} + 28 \\, k^{6} {\\vec k \\cdot \\vec Q} - 30 \\, k^{6} r + 2 \\, a^{2} k^{4} - 56 \\, k^{4} {\\vec k \\cdot \\vec Q} r + 15 \\, k^{4} r^{2} + 4 \\, a^{2} k^{2} {\\vec k \\cdot \\vec Q} - 24 \\, k^{2} {\\vec k \\cdot \\vec Q}^{2} r + 28 \\, k^{2} {\\vec k \\cdot \\vec Q} r^{2} + 12 \\, {\\vec k \\cdot \\vec Q}^{2} r^{2}}\\right)} Q^{2} - 4 \\, k^{2} {\\vec k \\cdot \\vec Q} + 5 \\, k^{2} r + 2 \\, {\\vec k \\cdot \\vec Q} r + \\sqrt{-15 \\, k^{8} - 28 \\, k^{6} {\\vec k \\cdot \\vec Q} + 30 \\, k^{6} r - 2 \\, a^{2} k^{4} + 56 \\, k^{4} {\\vec k \\cdot \\vec Q} r - 15 \\, k^{4} r^{2} - 4 \\, a^{2} k^{2} {\\vec k \\cdot \\vec Q} + 24 \\, k^{2} {\\vec k \\cdot \\vec Q}^{2} r - 28 \\, k^{2} {\\vec k \\cdot \\vec Q} r^{2} - 12 \\, {\\vec k \\cdot \\vec Q}^{2} r^{2}} $$"
      ],
      "text/plain": [
       "<IPython.core.display.Latex object>"
      ]
     },
     "metadata": {},
     "output_type": "display_data"
    }
   ],
   "source": [
    "ls = l2.series(Q, 3)\n",
    "pprint(ls.truncate().simplify())"
   ]
  },
  {
   "cell_type": "markdown",
   "metadata": {},
   "source": []
  },
  {
   "cell_type": "code",
   "execution_count": 67,
   "metadata": {
    "vscode": {
     "languageId": "python"
    }
   },
   "outputs": [
    {
     "data": {
      "text/latex": [
       "$$ \\frac{225 \\, Q^{2} k^{16} - 3375 \\, k^{18} - 195 \\, Q^{2} a^{2} k^{12} - 675 \\, a^{2} k^{14} - 29 \\, Q^{2} a^{4} k^{8} - 45 \\, a^{4} k^{10} - Q^{2} a^{6} k^{4} - a^{6} k^{6} + 3 \\, {\\left(75 \\, Q^{2} k^{4} - 1125 \\, k^{6} - 8 \\, {\\left(9 \\, Q^{2} - 5 \\, k^{2}\\right)} {\\vec k \\cdot \\vec Q}^{2} + 10 \\, {\\left(8 \\, Q^{2} k^{2} - 105 \\, k^{4}\\right)} {\\vec k \\cdot \\vec Q}\\right)} r^{6} - 18 \\, {\\left(75 \\, Q^{2} k^{6} - 1125 \\, k^{8} - 8 \\, {\\left(9 \\, Q^{2} k^{2} - 5 \\, k^{4}\\right)} {\\vec k \\cdot \\vec Q}^{2} + 10 \\, {\\left(8 \\, Q^{2} k^{4} - 105 \\, k^{6}\\right)} {\\vec k \\cdot \\vec Q}\\right)} r^{5} + {\\left(3375 \\, Q^{2} k^{8} - 50625 \\, k^{10} - 195 \\, Q^{2} a^{2} k^{4} - 675 \\, a^{2} k^{6} - 8 \\, {\\left(405 \\, Q^{2} k^{4} - 225 \\, k^{6} - 22 \\, Q^{2} a^{2} + 14 \\, a^{2} k^{2}\\right)} {\\vec k \\cdot \\vec Q}^{2} + 2 \\, {\\left(1800 \\, Q^{2} k^{6} - 23625 \\, k^{8} - 112 \\, Q^{2} a^{2} k^{2} - 435 \\, a^{2} k^{4}\\right)} {\\vec k \\cdot \\vec Q}\\right)} r^{4} - 4 \\, {\\left(1125 \\, Q^{2} k^{10} - 16875 \\, k^{12} - 195 \\, Q^{2} a^{2} k^{6} - 675 \\, a^{2} k^{8} - 8 \\, {\\left(135 \\, Q^{2} k^{6} - 75 \\, k^{8} - 22 \\, Q^{2} a^{2} k^{2} + 14 \\, a^{2} k^{4}\\right)} {\\vec k \\cdot \\vec Q}^{2} + 2 \\, {\\left(600 \\, Q^{2} k^{8} - 7875 \\, k^{10} - 112 \\, Q^{2} a^{2} k^{4} - 435 \\, a^{2} k^{6}\\right)} {\\vec k \\cdot \\vec Q}\\right)} r^{3} - 8 \\, {\\left(27 \\, Q^{2} k^{12} - 15 \\, k^{14} - 22 \\, Q^{2} a^{2} k^{8} + 14 \\, a^{2} k^{10} - 5 \\, Q^{2} a^{4} k^{4} + a^{4} k^{6}\\right)} {\\vec k \\cdot \\vec Q}^{2} + {\\left(3375 \\, Q^{2} k^{12} - 50625 \\, k^{14} - 1170 \\, Q^{2} a^{2} k^{8} - 4050 \\, a^{2} k^{10} - 29 \\, Q^{2} a^{4} k^{4} - 45 \\, a^{4} k^{6} - 8 \\, {\\left(405 \\, Q^{2} k^{8} - 225 \\, k^{10} - 132 \\, Q^{2} a^{2} k^{4} + 84 \\, a^{2} k^{6} - 5 \\, Q^{2} a^{4} + a^{4} k^{2}\\right)} {\\vec k \\cdot \\vec Q}^{2} + 2 \\, {\\left(1800 \\, Q^{2} k^{10} - 23625 \\, k^{12} - 672 \\, Q^{2} a^{2} k^{6} - 2610 \\, a^{2} k^{8} - 8 \\, Q^{2} a^{4} k^{2} - 37 \\, a^{4} k^{4}\\right)} {\\vec k \\cdot \\vec Q}\\right)} r^{2} + 2 \\, {\\left(120 \\, Q^{2} k^{14} - 1575 \\, k^{16} - 112 \\, Q^{2} a^{2} k^{10} - 435 \\, a^{2} k^{12} - 8 \\, Q^{2} a^{4} k^{6} - 37 \\, a^{4} k^{8} - a^{6} k^{4}\\right)} {\\vec k \\cdot \\vec Q} - 2 \\, {\\left(675 \\, Q^{2} k^{14} - 10125 \\, k^{16} - 390 \\, Q^{2} a^{2} k^{10} - 1350 \\, a^{2} k^{12} - 29 \\, Q^{2} a^{4} k^{6} - 45 \\, a^{4} k^{8} - 8 \\, {\\left(81 \\, Q^{2} k^{10} - 45 \\, k^{12} - 44 \\, Q^{2} a^{2} k^{6} + 28 \\, a^{2} k^{8} - 5 \\, Q^{2} a^{4} k^{2} + a^{4} k^{4}\\right)} {\\vec k \\cdot \\vec Q}^{2} + 2 \\, {\\left(360 \\, Q^{2} k^{12} - 4725 \\, k^{14} - 224 \\, Q^{2} a^{2} k^{8} - 870 \\, a^{2} k^{10} - 8 \\, Q^{2} a^{4} k^{4} - 37 \\, a^{4} k^{6}\\right)} {\\vec k \\cdot \\vec Q}\\right)} r - {\\left(450 \\, Q^{2} k^{12} + 1575 \\, k^{14} + 60 \\, Q^{2} a^{2} k^{8} + 210 \\, a^{2} k^{10} + 2 \\, Q^{2} a^{4} k^{4} + 7 \\, a^{4} k^{6} - 225 \\, {\\left(Q^{2} k^{2} + 5 \\, k^{4} + 2 \\, k^{2} {\\vec k \\cdot \\vec Q}\\right)} r^{5} + 225 \\, {\\left(6 \\, Q^{2} k^{4} + 27 \\, k^{6} - 4 \\, k^{2} {\\vec k \\cdot \\vec Q}^{2} - 4 \\, {\\left(Q^{2} k^{2} - 3 \\, k^{4}\\right)} {\\vec k \\cdot \\vec Q}\\right)} r^{4} - 30 \\, {\\left(105 \\, Q^{2} k^{6} + 435 \\, k^{8} + Q^{2} a^{2} k^{2} + 5 \\, a^{2} k^{4} - 120 \\, k^{4} {\\vec k \\cdot \\vec Q}^{2} - 2 \\, {\\left(60 \\, Q^{2} k^{4} - 105 \\, k^{6} - a^{2} k^{2}\\right)} {\\vec k \\cdot \\vec Q}\\right)} r^{3} - 4 \\, {\\left(225 \\, k^{10} + 30 \\, a^{2} k^{6} + a^{4} k^{2}\\right)} {\\vec k \\cdot \\vec Q}^{2} + 30 \\, {\\left(120 \\, Q^{2} k^{8} + 465 \\, k^{10} + 4 \\, Q^{2} a^{2} k^{4} + 17 \\, a^{2} k^{6} - 4 \\, {\\left(45 \\, k^{6} + a^{2} k^{2}\\right)} {\\vec k \\cdot \\vec Q}^{2} - 4 \\, {\\left(45 \\, Q^{2} k^{6} - 60 \\, k^{8} + Q^{2} a^{2} k^{2} - 2 \\, a^{2} k^{4}\\right)} {\\vec k \\cdot \\vec Q}\\right)} r^{2} - 4 \\, {\\left(225 \\, Q^{2} k^{10} - 225 \\, k^{12} + 30 \\, Q^{2} a^{2} k^{6} - 30 \\, a^{2} k^{8} + Q^{2} a^{4} k^{2} - a^{4} k^{4}\\right)} {\\vec k \\cdot \\vec Q} - {\\left(2025 \\, Q^{2} k^{10} + 7425 \\, k^{12} + 150 \\, Q^{2} a^{2} k^{6} + 570 \\, a^{2} k^{8} + Q^{2} a^{4} k^{2} + 5 \\, a^{4} k^{4} - 240 \\, {\\left(15 \\, k^{8} + a^{2} k^{4}\\right)} {\\vec k \\cdot \\vec Q}^{2} - 2 \\, {\\left(1800 \\, Q^{2} k^{8} - 2025 \\, k^{10} + 120 \\, Q^{2} a^{2} k^{4} - 150 \\, a^{2} k^{6} - a^{4} k^{2}\\right)} {\\vec k \\cdot \\vec Q}\\right)} r\\right)} \\sqrt{-15 \\, k^{8} + 30 \\, k^{6} r - a^{2} k^{4} - 15 \\, k^{4} r^{2}}}{{\\left(225 \\, k^{10} + 30 \\, a^{2} k^{6} - 900 \\, k^{4} r^{3} + a^{4} k^{2} + 225 \\, k^{2} r^{4} + 30 \\, {\\left(45 \\, k^{6} + a^{2} k^{2}\\right)} r^{2} - 60 \\, {\\left(15 \\, k^{8} + a^{2} k^{4}\\right)} r\\right)} \\sqrt{-15 \\, k^{8} + 30 \\, k^{6} r - a^{2} k^{4} - 15 \\, k^{4} r^{2}}} $$"
      ],
      "text/plain": [
       "<IPython.core.display.Latex object>"
      ]
     },
     "metadata": {},
     "output_type": "display_data"
    }
   ],
   "source": [
    "ls = l.series(kQ, 3).truncate()\n",
    "ls = ls.series(Q, 3).truncate()\n",
    "ls = ls.simplify_full()\n",
    "ls = ls.simplify_rational()\n",
    "ls = ls.simplify_full()\n",
    "pprint(ls)"
   ]
  },
  {
   "cell_type": "code",
   "execution_count": 55,
   "metadata": {
    "vscode": {
     "languageId": "python"
    }
   },
   "outputs": [
    {
     "data": {
      "text/latex": [
       "$$ -7 \\, k^{4} + 5 \\, k^{2} r - 2 \\, {\\left(2 \\, k^{2} - r - \\frac{\\sqrt{-15 \\, k^{8} + 30 \\, k^{6} r - a^{2} k^{4} - 15 \\, k^{4} r^{2}} {\\left(7 \\, k^{6} - 14 \\, k^{4} r + a^{2} k^{2} + 7 \\, k^{2} r^{2}\\right)}}{15 \\, k^{8} - 30 \\, k^{6} r + a^{2} k^{4} + 15 \\, k^{4} r^{2}}\\right)} {\\vec k \\cdot \\vec Q} + \\sqrt{-15 \\, k^{8} + 30 \\, k^{6} r - a^{2} k^{4} - 15 \\, k^{4} r^{2}} $$"
      ],
      "text/plain": [
       "<IPython.core.display.Latex object>"
      ]
     },
     "metadata": {},
     "output_type": "display_data"
    }
   ],
   "source": [
    "ls = l.series(Q, 2).truncate()\n",
    "ls = ls.series(kQ, 2).truncate()\n",
    "ls = ls.simplify()\n",
    "pprint(ls)"
   ]
  },
  {
   "cell_type": "code",
   "execution_count": 36,
   "metadata": {
    "vscode": {
     "languageId": "python"
    }
   },
   "outputs": [
    {
     "data": {
      "text/latex": [
       "$$ \\frac{16 \\, \\sqrt{-15 \\, k^{8} + 30 \\, k^{6} r - a^{2} k^{4} - 15 \\, k^{4} r^{2}} k^{6} \\mathit{kQ}}{15 \\, k^{8} - 30 \\, k^{6} r + a^{2} k^{4} + 15 \\, k^{4} r^{2}} - \\frac{32 \\, \\sqrt{-15 \\, k^{8} + 30 \\, k^{6} r - a^{2} k^{4} - 15 \\, k^{4} r^{2}} k^{4} \\mathit{kQ} r}{15 \\, k^{8} - 30 \\, k^{6} r + a^{2} k^{4} + 15 \\, k^{4} r^{2}} + \\frac{16 \\, \\sqrt{-15 \\, k^{8} + 30 \\, k^{6} r - a^{2} k^{4} - 15 \\, k^{4} r^{2}} k^{2} \\mathit{kQ} r^{2}}{15 \\, k^{8} - 30 \\, k^{6} r + a^{2} k^{4} + 15 \\, k^{4} r^{2}} - 3 \\, k^{4} + k^{2} r + 2 \\, {\\left(\\frac{16 \\, \\sqrt{-15 \\, k^{8} + 30 \\, k^{6} r - a^{2} k^{4} - 15 \\, k^{4} r^{2}} k^{13} \\mathit{kQ}}{225 \\, k^{16} - 900 \\, k^{14} r + 30 \\, a^{2} k^{12} + 1350 \\, k^{12} r^{2} - 60 \\, a^{2} k^{10} r - 900 \\, k^{10} r^{3} + a^{4} k^{8} + 30 \\, a^{2} k^{8} r^{2} + 225 \\, k^{8} r^{4}} - \\frac{64 \\, \\sqrt{-15 \\, k^{8} + 30 \\, k^{6} r - a^{2} k^{4} - 15 \\, k^{4} r^{2}} k^{11} \\mathit{kQ} r}{225 \\, k^{16} - 900 \\, k^{14} r + 30 \\, a^{2} k^{12} + 1350 \\, k^{12} r^{2} - 60 \\, a^{2} k^{10} r - 900 \\, k^{10} r^{3} + a^{4} k^{8} + 30 \\, a^{2} k^{8} r^{2} + 225 \\, k^{8} r^{4}} - \\frac{16 \\, \\sqrt{-15 \\, k^{8} + 30 \\, k^{6} r - a^{2} k^{4} - 15 \\, k^{4} r^{2}} a^{2} k^{9} \\mathit{kQ}}{225 \\, k^{16} - 900 \\, k^{14} r + 30 \\, a^{2} k^{12} + 1350 \\, k^{12} r^{2} - 60 \\, a^{2} k^{10} r - 900 \\, k^{10} r^{3} + a^{4} k^{8} + 30 \\, a^{2} k^{8} r^{2} + 225 \\, k^{8} r^{4}} + \\frac{96 \\, \\sqrt{-15 \\, k^{8} + 30 \\, k^{6} r - a^{2} k^{4} - 15 \\, k^{4} r^{2}} k^{9} \\mathit{kQ} r^{2}}{225 \\, k^{16} - 900 \\, k^{14} r + 30 \\, a^{2} k^{12} + 1350 \\, k^{12} r^{2} - 60 \\, a^{2} k^{10} r - 900 \\, k^{10} r^{3} + a^{4} k^{8} + 30 \\, a^{2} k^{8} r^{2} + 225 \\, k^{8} r^{4}} + \\frac{32 \\, \\sqrt{-15 \\, k^{8} + 30 \\, k^{6} r - a^{2} k^{4} - 15 \\, k^{4} r^{2}} a^{2} k^{7} \\mathit{kQ} r}{225 \\, k^{16} - 900 \\, k^{14} r + 30 \\, a^{2} k^{12} + 1350 \\, k^{12} r^{2} - 60 \\, a^{2} k^{10} r - 900 \\, k^{10} r^{3} + a^{4} k^{8} + 30 \\, a^{2} k^{8} r^{2} + 225 \\, k^{8} r^{4}} - \\frac{64 \\, \\sqrt{-15 \\, k^{8} + 30 \\, k^{6} r - a^{2} k^{4} - 15 \\, k^{4} r^{2}} k^{7} \\mathit{kQ} r^{3}}{225 \\, k^{16} - 900 \\, k^{14} r + 30 \\, a^{2} k^{12} + 1350 \\, k^{12} r^{2} - 60 \\, a^{2} k^{10} r - 900 \\, k^{10} r^{3} + a^{4} k^{8} + 30 \\, a^{2} k^{8} r^{2} + 225 \\, k^{8} r^{4}} - \\frac{16 \\, \\sqrt{-15 \\, k^{8} + 30 \\, k^{6} r - a^{2} k^{4} - 15 \\, k^{4} r^{2}} a^{2} k^{5} \\mathit{kQ} r^{2}}{225 \\, k^{16} - 900 \\, k^{14} r + 30 \\, a^{2} k^{12} + 1350 \\, k^{12} r^{2} - 60 \\, a^{2} k^{10} r - 900 \\, k^{10} r^{3} + a^{4} k^{8} + 30 \\, a^{2} k^{8} r^{2} + 225 \\, k^{8} r^{4}} + \\frac{16 \\, \\sqrt{-15 \\, k^{8} + 30 \\, k^{6} r - a^{2} k^{4} - 15 \\, k^{4} r^{2}} k^{5} \\mathit{kQ} r^{4}}{225 \\, k^{16} - 900 \\, k^{14} r + 30 \\, a^{2} k^{12} + 1350 \\, k^{12} r^{2} - 60 \\, a^{2} k^{10} r - 900 \\, k^{10} r^{3} + a^{4} k^{8} + 30 \\, a^{2} k^{8} r^{2} + 225 \\, k^{8} r^{4}} - \\frac{\\sqrt{-15 \\, k^{8} + 30 \\, k^{6} r - a^{2} k^{4} - 15 \\, k^{4} r^{2}} k^{7}}{15 \\, k^{8} - 30 \\, k^{6} r + a^{2} k^{4} + 15 \\, k^{4} r^{2}} + \\frac{2 \\, \\sqrt{-15 \\, k^{8} + 30 \\, k^{6} r - a^{2} k^{4} - 15 \\, k^{4} r^{2}} k^{5} r}{15 \\, k^{8} - 30 \\, k^{6} r + a^{2} k^{4} + 15 \\, k^{4} r^{2}} + \\frac{\\sqrt{-15 \\, k^{8} + 30 \\, k^{6} r - a^{2} k^{4} - 15 \\, k^{4} r^{2}} a^{2} k^{3}}{15 \\, k^{8} - 30 \\, k^{6} r + a^{2} k^{4} + 15 \\, k^{4} r^{2}} - \\frac{\\sqrt{-15 \\, k^{8} + 30 \\, k^{6} r - a^{2} k^{4} - 15 \\, k^{4} r^{2}} k^{3} r^{2}}{15 \\, k^{8} - 30 \\, k^{6} r + a^{2} k^{4} + 15 \\, k^{4} r^{2}} - 2 \\, k^{3} + k r\\right)} Q - 4 \\, k^{2} + 4 \\, r + \\sqrt{-15 \\, k^{8} + 30 \\, k^{6} r - a^{2} k^{4} - 15 \\, k^{4} r^{2}} $$"
      ],
      "text/plain": [
       "<IPython.core.display.Latex object>"
      ]
     },
     "metadata": {},
     "output_type": "display_data"
    }
   ],
   "source": [
    "pprint(ls.collect(Q))"
   ]
  },
  {
   "cell_type": "code",
   "execution_count": null,
   "metadata": {
    "vscode": {
     "languageId": "python"
    }
   },
   "outputs": [],
   "source": []
  }
 ],
 "metadata": {
  "kernelspec": {
   "display_name": "SageMath 9.5",
   "language": "sage",
   "name": "sagemath"
  },
  "language_info": {
   "codemirror_mode": {
    "name": "ipython",
    "version": 3
   },
   "file_extension": ".py",
   "mimetype": "text/x-python",
   "name": "sage",
   "nbconvert_exporter": "python",
   "pygments_lexer": "ipython3",
   "version": "3.10.12"
  },
  "orig_nbformat": 4
 },
 "nbformat": 4,
 "nbformat_minor": 2
}
