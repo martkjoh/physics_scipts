{
 "cells": [
  {
   "cell_type": "code",
   "execution_count": 1,
   "metadata": {
    "vscode": {
     "languageId": "python"
    }
   },
   "outputs": [],
   "source": [
    "from IPython.display import display, Latex\n",
    "\n",
    "def pprint(expr):\n",
    "    return display(Latex(\"$$\" + latex(expr) +\"$$\"))"
   ]
  },
  {
   "cell_type": "code",
   "execution_count": 2,
   "metadata": {
    "vscode": {
     "languageId": "python"
    }
   },
   "outputs": [
    {
     "data": {
      "text/plain": [
       "True"
      ]
     },
     "execution_count": 2,
     "metadata": {},
     "output_type": "execute_result"
    }
   ],
   "source": [
    "var(\"r\", \"q\")\n",
    "var(\"a\",  latex_name=\"\\\\alpha\")\n",
    "var(\"p2\", latex_name=\"u\\\\bar\\\\varphi^2\")\n",
    "assume(a>0)\n",
    "assume(q>0)\n",
    "assume(p2>0)\n",
    "assume(r>0)\n",
    "bool(a>0)"
   ]
  },
  {
   "cell_type": "code",
   "execution_count": 26,
   "metadata": {
    "vscode": {
     "languageId": "python"
    }
   },
   "outputs": [
    {
     "data": {
      "text/latex": [
       "$$ \\left(\\begin{array}{rr}\n",
       "q^{2} + 3 \\, {u\\bar\\varphi^2} + r & {\\alpha} \\\\\n",
       "-{\\alpha} & q^{2} + {u\\bar\\varphi^2} + r\n",
       "\\end{array}\\right) $$"
      ],
      "text/plain": [
       "<IPython.core.display.Latex object>"
      ]
     },
     "metadata": {},
     "output_type": "display_data"
    },
    {
     "data": {
      "text/latex": [
       "$$ \\left[\\left(1,\\,-\\frac{{u\\bar\\varphi^2} + \\sqrt{-{\\alpha}^{2} + {u\\bar\\varphi^2}^{2}}}{{\\alpha}}\\right), \\left(1,\\,-\\frac{{u\\bar\\varphi^2} - \\sqrt{-{\\alpha}^{2} + {u\\bar\\varphi^2}^{2}}}{{\\alpha}}\\right)\\right] $$"
      ],
      "text/plain": [
       "<IPython.core.display.Latex object>"
      ]
     },
     "metadata": {},
     "output_type": "display_data"
    },
    {
     "data": {
      "text/latex": [
       "$$ \\left[q^{2} + 2 \\, {u\\bar\\varphi^2} + r - \\sqrt{-{\\alpha}^{2} + {u\\bar\\varphi^2}^{2}}, q^{2} + 2 \\, {u\\bar\\varphi^2} + r + \\sqrt{-{\\alpha}^{2} + {u\\bar\\varphi^2}^{2}}\\right] $$"
      ],
      "text/plain": [
       "<IPython.core.display.Latex object>"
      ]
     },
     "metadata": {},
     "output_type": "display_data"
    }
   ],
   "source": [
    "M = Matrix([[q**2 + r + 3*p2, a], [-a, r + q**2 + p2]] )\n",
    "pprint(M)\n",
    "v = M.eigenvectors_right()\n",
    "vec = [v[i][1][0].simplify() for i in range(2)]\n",
    "val = [v[i][0].simplify() for i in range(2)]\n",
    "pprint(vec)\n",
    "pprint(val)"
   ]
  },
  {
   "cell_type": "code",
   "execution_count": 28,
   "metadata": {
    "vscode": {
     "languageId": "python"
    }
   },
   "outputs": [
    {
     "data": {
      "text/latex": [
       "$$ \\left(\\begin{array}{rr}\n",
       "\\frac{{\\alpha}}{\\sqrt{2 \\, {u\\bar\\varphi^2}^{2} - 2 \\, \\sqrt{-{\\alpha}^{2} + {u\\bar\\varphi^2}^{2}} {u\\bar\\varphi^2}}} & -\\frac{{u\\bar\\varphi^2} - \\sqrt{-{\\alpha}^{2} + {u\\bar\\varphi^2}^{2}}}{\\sqrt{2 \\, {u\\bar\\varphi^2}^{2} - 2 \\, \\sqrt{-{\\alpha}^{2} + {u\\bar\\varphi^2}^{2}} {u\\bar\\varphi^2}}} \\\\\n",
       "-\\frac{{u\\bar\\varphi^2} - \\sqrt{-{\\alpha}^{2} + {u\\bar\\varphi^2}^{2}}}{\\sqrt{2 \\, {u\\bar\\varphi^2}^{2} - 2 \\, \\sqrt{-{\\alpha}^{2} + {u\\bar\\varphi^2}^{2}} {u\\bar\\varphi^2}}} & -\\frac{{\\alpha}}{\\sqrt{2 \\, {u\\bar\\varphi^2}^{2} - 2 \\, \\sqrt{-{\\alpha}^{2} + {u\\bar\\varphi^2}^{2}} {u\\bar\\varphi^2}}}\n",
       "\\end{array}\\right) $$"
      ],
      "text/plain": [
       "<IPython.core.display.Latex object>"
      ]
     },
     "metadata": {},
     "output_type": "display_data"
    }
   ],
   "source": [
    "u = vec[1] * a\n",
    "U = Matrix([\n",
    "    [u[0], u[1]], \n",
    "    [u[1], -u[0]]\n",
    "    ]) / sqrt(u * u)\n",
    "U = U.simplify_full()\n",
    "pprint(U)"
   ]
  },
  {
   "cell_type": "code",
   "execution_count": 29,
   "metadata": {
    "vscode": {
     "languageId": "python"
    }
   },
   "outputs": [
    {
     "data": {
      "text/latex": [
       "$$ \\left({\\alpha},\\,-{u\\bar\\varphi^2} + \\sqrt{-{\\alpha}^{2} + {u\\bar\\varphi^2}^{2}}\\right) $$"
      ],
      "text/plain": [
       "<IPython.core.display.Latex object>"
      ]
     },
     "metadata": {},
     "output_type": "display_data"
    }
   ],
   "source": [
    "pprint(u)"
   ]
  },
  {
   "cell_type": "code",
   "execution_count": 30,
   "metadata": {
    "vscode": {
     "languageId": "python"
    }
   },
   "outputs": [
    {
     "data": {
      "text/latex": [
       "$$ \\left({\\left(q^{2} + 3 \\, {u\\bar\\varphi^2} + r\\right)} {\\alpha} - {\\alpha} {\\left({u\\bar\\varphi^2} - \\sqrt{-{\\alpha}^{2} + {u\\bar\\varphi^2}^{2}}\\right)},\\,-{\\alpha}^{2} - {\\left(q^{2} + {u\\bar\\varphi^2} + r\\right)} {\\left({u\\bar\\varphi^2} - \\sqrt{-{\\alpha}^{2} + {u\\bar\\varphi^2}^{2}}\\right)}\\right) $$"
      ],
      "text/plain": [
       "<IPython.core.display.Latex object>"
      ]
     },
     "metadata": {},
     "output_type": "display_data"
    }
   ],
   "source": [
    "simplify(pprint(M * u))"
   ]
  },
  {
   "cell_type": "code",
   "execution_count": 17,
   "metadata": {
    "vscode": {
     "languageId": "python"
    }
   },
   "outputs": [],
   "source": [
    "Mp = (U*M*U).simplify_full()"
   ]
  },
  {
   "cell_type": "code",
   "execution_count": 18,
   "metadata": {
    "vscode": {
     "languageId": "python"
    }
   },
   "outputs": [
    {
     "data": {
      "text/latex": [
       "$$ \\left(\\begin{array}{rr}\n",
       "-\\frac{2 \\, {u\\bar\\varphi^2}^{3} - {\\left({\\alpha}^{2} - 2 \\, {u\\bar\\varphi^2}^{2}\\right)} q^{2} - {\\left({\\alpha}^{2} - 2 \\, {u\\bar\\varphi^2}^{2}\\right)} r - {\\left(2 \\, {u\\bar\\varphi^2} q^{2} + {\\alpha}^{2} + 2 \\, {u\\bar\\varphi^2}^{2} + 2 \\, {u\\bar\\varphi^2} r\\right)} \\sqrt{-{\\alpha}^{2} + {u\\bar\\varphi^2}^{2}}}{{\\alpha}^{2} - 2 \\, {u\\bar\\varphi^2}^{2} + 2 \\, \\sqrt{-{\\alpha}^{2} + {u\\bar\\varphi^2}^{2}} {u\\bar\\varphi^2}} & -2 \\, {\\alpha} \\\\\n",
       "0 & \\frac{4 \\, {\\alpha}^{2} {u\\bar\\varphi^2} - 6 \\, {u\\bar\\varphi^2}^{3} + {\\left({\\alpha}^{2} - 2 \\, {u\\bar\\varphi^2}^{2}\\right)} q^{2} + {\\left({\\alpha}^{2} - 2 \\, {u\\bar\\varphi^2}^{2}\\right)} r + {\\left(2 \\, {u\\bar\\varphi^2} q^{2} - {\\alpha}^{2} + 6 \\, {u\\bar\\varphi^2}^{2} + 2 \\, {u\\bar\\varphi^2} r\\right)} \\sqrt{-{\\alpha}^{2} + {u\\bar\\varphi^2}^{2}}}{{\\alpha}^{2} - 2 \\, {u\\bar\\varphi^2}^{2} + 2 \\, \\sqrt{-{\\alpha}^{2} + {u\\bar\\varphi^2}^{2}} {u\\bar\\varphi^2}}\n",
       "\\end{array}\\right) $$"
      ],
      "text/plain": [
       "<IPython.core.display.Latex object>"
      ]
     },
     "metadata": {},
     "output_type": "display_data"
    }
   ],
   "source": [
    "pprint(Mp)"
   ]
  },
  {
   "cell_type": "code",
   "execution_count": 19,
   "metadata": {
    "vscode": {
     "languageId": "python"
    }
   },
   "outputs": [
    {
     "data": {
      "text/latex": [
       "$$ -\\frac{2 \\, {u\\bar\\varphi^2}^{3} - {\\left({\\alpha}^{2} - 2 \\, {u\\bar\\varphi^2}^{2}\\right)} q^{2} - {\\left({\\alpha}^{2} - 2 \\, {u\\bar\\varphi^2}^{2}\\right)} r - {\\left(2 \\, {u\\bar\\varphi^2} q^{2} + {\\alpha}^{2} + 2 \\, {u\\bar\\varphi^2}^{2} + 2 \\, {u\\bar\\varphi^2} r\\right)} \\sqrt{-{\\alpha}^{2} + {u\\bar\\varphi^2}^{2}}}{{\\alpha}^{2} - 2 \\, {u\\bar\\varphi^2}^{2} + 2 \\, \\sqrt{-{\\alpha}^{2} + {u\\bar\\varphi^2}^{2}} {u\\bar\\varphi^2}} $$"
      ],
      "text/plain": [
       "<IPython.core.display.Latex object>"
      ]
     },
     "metadata": {},
     "output_type": "display_data"
    }
   ],
   "source": [
    "pprint(Mp[0, 0].simplify_rational().full_simplify())"
   ]
  },
  {
   "cell_type": "code",
   "execution_count": null,
   "metadata": {
    "vscode": {
     "languageId": "python"
    }
   },
   "outputs": [],
   "source": []
  },
  {
   "cell_type": "code",
   "execution_count": null,
   "metadata": {
    "vscode": {
     "languageId": "python"
    }
   },
   "outputs": [],
   "source": []
  }
 ],
 "metadata": {
  "kernelspec": {
   "display_name": "SageMath 9.5",
   "language": "sage",
   "name": "sagemath"
  },
  "language_info": {
   "codemirror_mode": {
    "name": "ipython",
    "version": 3
   },
   "file_extension": ".py",
   "mimetype": "text/x-python",
   "name": "sage",
   "nbconvert_exporter": "python",
   "pygments_lexer": "ipython3",
   "version": "3.10.12"
  }
 },
 "nbformat": 4,
 "nbformat_minor": 2
}
