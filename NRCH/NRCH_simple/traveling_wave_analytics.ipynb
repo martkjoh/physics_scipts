{
 "cells": [
  {
   "cell_type": "code",
   "execution_count": 1,
   "metadata": {
    "vscode": {
     "languageId": "python"
    }
   },
   "outputs": [],
   "source": [
    "from IPython.display import display, Latex\n",
    "def pprint(expr):\n",
    "    return display(Latex(\"$$\" + latex(expr) +\"$$\"))\n",
    "\n",
    "var(\"k, q, kq\")\n",
    "var(\"p\", latex_name=\"\\\\phi\")\n",
    "\n",
    "\n",
    "O11 = 4*k**2 - 4 * I * kq * sin(2*p) + q**2 * (1 + 2 * cos(p)**2)\n",
    "O22 = 4*k**2 + 4 * I * kq * sin(2*p) + q**2 * (1 + 2 * sin(p)**2)\n",
    "O12 = 4*I*kq*cos(2*p) + q**2 * sin(2*p)"
   ]
  },
  {
   "cell_type": "code",
   "execution_count": 2,
   "metadata": {
    "vscode": {
     "languageId": "python"
    }
   },
   "outputs": [
    {
     "data": {
      "text/latex": [
       "$$ \\left(\\begin{array}{rr}\n",
       "{\\left(2 \\, \\cos\\left({\\phi}\\right)^{2} + 1\\right)} q^{2} + 4 \\, k^{2} - 4 i \\, \\mathit{kq} \\sin\\left(2 \\, {\\phi}\\right) & q^{2} \\sin\\left(2 \\, {\\phi}\\right) + 4 i \\, \\mathit{kq} \\cos\\left(2 \\, {\\phi}\\right) \\\\\n",
       "q^{2} \\sin\\left(2 \\, {\\phi}\\right) + 4 i \\, \\mathit{kq} \\cos\\left(2 \\, {\\phi}\\right) & {\\left(2 \\, \\sin\\left({\\phi}\\right)^{2} + 1\\right)} q^{2} + 4 \\, k^{2} + 4 i \\, \\mathit{kq} \\sin\\left(2 \\, {\\phi}\\right)\n",
       "\\end{array}\\right) $$"
      ],
      "text/plain": [
       "<IPython.core.display.Latex object>"
      ]
     },
     "metadata": {},
     "output_type": "display_data"
    },
    {
     "data": {
      "text/latex": [
       "$$ {\\left({\\left(2 \\, \\cos\\left({\\phi}\\right)^{2} + 1\\right)} q^{2} + 4 \\, k^{2} - 4 i \\, \\mathit{kq} \\sin\\left(2 \\, {\\phi}\\right)\\right)} {\\left({\\left(2 \\, \\sin\\left({\\phi}\\right)^{2} + 1\\right)} q^{2} + 4 \\, k^{2} + 4 i \\, \\mathit{kq} \\sin\\left(2 \\, {\\phi}\\right)\\right)} - {\\left(q^{2} \\sin\\left(2 \\, {\\phi}\\right) + 4 i \\, \\mathit{kq} \\cos\\left(2 \\, {\\phi}\\right)\\right)}^{2} $$"
      ],
      "text/plain": [
       "<IPython.core.display.Latex object>"
      ]
     },
     "metadata": {},
     "output_type": "display_data"
    },
    {
     "data": {
      "text/latex": [
       "$$ 16 \\, k^{4} + 16 \\, k^{2} q^{2} + 3 \\, q^{4} + 16 \\, \\mathit{kq}^{2} $$"
      ],
      "text/plain": [
       "<IPython.core.display.Latex object>"
      ]
     },
     "metadata": {},
     "output_type": "display_data"
    }
   ],
   "source": [
    "O = Matrix([[O11, O12], [O12, O22]])\n",
    "d = det(O)\n",
    "pprint(O)\n",
    "pprint(d) \n",
    "pprint(d.full_simplify())"
   ]
  },
  {
   "cell_type": "code",
   "execution_count": 10,
   "metadata": {
    "vscode": {
     "languageId": "python"
    }
   },
   "outputs": [
    {
     "data": {
      "text/latex": [
       "$$ \\left(\\begin{array}{rr}\n",
       "{\\left(q^{2} + r\\right)} q^{2} + {\\left({\\left(2 \\, \\cos\\left({\\phi}\\right)^{2} + 1\\right)} q^{2} + 4 \\, k^{2} - 4 i \\, \\mathit{kq} \\sin\\left(2 \\, {\\phi}\\right)\\right)} x^{2} & {\\alpha} q^{2} + {\\left(q^{2} \\sin\\left(2 \\, {\\phi}\\right) + 4 i \\, \\mathit{kq} \\cos\\left(2 \\, {\\phi}\\right)\\right)} x^{2} \\\\\n",
       "-{\\alpha} q^{2} + {\\left(q^{2} \\sin\\left(2 \\, {\\phi}\\right) + 4 i \\, \\mathit{kq} \\cos\\left(2 \\, {\\phi}\\right)\\right)} x^{2} & {\\left(q^{2} + r\\right)} q^{2} + {\\left({\\left(2 \\, \\sin\\left({\\phi}\\right)^{2} + 1\\right)} q^{2} + 4 \\, k^{2} + 4 i \\, \\mathit{kq} \\sin\\left(2 \\, {\\phi}\\right)\\right)} x^{2}\n",
       "\\end{array}\\right) $$"
      ],
      "text/plain": [
       "<IPython.core.display.Latex object>"
      ]
     },
     "metadata": {},
     "output_type": "display_data"
    }
   ],
   "source": [
    "var(\"a\", latex_name=\"\\\\alpha\")\n",
    "var(\"r, x\")\n",
    "N = q**2*Matrix([[(r + q**2), a], [-a,(r + q**2)]])\n",
    "K = N + x**2*O \n",
    "pprint(K)"
   ]
  },
  {
   "cell_type": "code",
   "execution_count": 11,
   "metadata": {
    "vscode": {
     "languageId": "python"
    }
   },
   "outputs": [
    {
     "data": {
      "text/latex": [
       "$$ q^{8} + 2 \\, q^{6} r + {\\alpha}^{2} q^{4} + q^{4} r^{2} + {\\left(16 \\, k^{4} + 16 \\, k^{2} q^{2} + 3 \\, q^{4} + 16 \\, \\mathit{kq}^{2}\\right)} x^{4} + 4 \\, {\\left(2 \\, k^{2} q^{4} + q^{6} + {\\left(2 \\, k^{2} q^{2} + q^{4}\\right)} r\\right)} x^{2} $$"
      ],
      "text/plain": [
       "<IPython.core.display.Latex object>"
      ]
     },
     "metadata": {},
     "output_type": "display_data"
    }
   ],
   "source": [
    "pprint(det(K).full_simplify())"
   ]
  },
  {
   "cell_type": "code",
   "execution_count": 16,
   "metadata": {
    "vscode": {
     "languageId": "python"
    }
   },
   "outputs": [
    {
     "data": {
      "text/latex": [
       "$$ q^{4} + q^{2} r + 2 \\, {\\left(2 \\, k^{2} + q^{2}\\right)} x^{2} - \\sqrt{-{\\alpha}^{2} q^{4} + {\\left(q^{4} - 16 \\, \\mathit{kq}^{2}\\right)} x^{4}} $$"
      ],
      "text/plain": [
       "<IPython.core.display.Latex object>"
      ]
     },
     "metadata": {},
     "output_type": "display_data"
    },
    {
     "data": {
      "text/latex": [
       "$$ q^{4} + q^{2} r + 2 \\, {\\left(2 \\, k^{2} + q^{2}\\right)} x^{2} + \\sqrt{-{\\alpha}^{2} q^{4} + {\\left(q^{4} - 16 \\, \\mathit{kq}^{2}\\right)} x^{4}} $$"
      ],
      "text/plain": [
       "<IPython.core.display.Latex object>"
      ]
     },
     "metadata": {},
     "output_type": "display_data"
    }
   ],
   "source": [
    "eig = K.eigenvalues()\n",
    "pprint(eig[0].full_simplify())\n",
    "pprint(eig[1].full_simplify())"
   ]
  },
  {
   "cell_type": "code",
   "execution_count": 23,
   "metadata": {
    "vscode": {
     "languageId": "python"
    }
   },
   "outputs": [
    {
     "data": {
      "text/latex": [
       "$$ -k^{2} q^{2} + q^{4} + {\\left(4 \\, k^{2} + q^{2}\\right)} x^{2} + \\sqrt{-{\\alpha}^{2} q^{4} + {\\left(q^{4} - 16 \\, \\mathit{kq}^{2}\\right)} x^{4}} $$"
      ],
      "text/plain": [
       "<IPython.core.display.Latex object>"
      ]
     },
     "metadata": {},
     "output_type": "display_data"
    }
   ],
   "source": [
    "pprint(eig[1].subs(r == -x**2 - k**2).full_simplify())"
   ]
  },
  {
   "cell_type": "code",
   "execution_count": 24,
   "metadata": {
    "vscode": {
     "languageId": "python"
    }
   },
   "outputs": [
    {
     "data": {
      "text/latex": [
       "$$ -4 \\, k^{4} - 2 \\, k^{2} q^{2} + q^{4} - {\\left(4 \\, k^{2} + q^{2}\\right)} r + \\sqrt{-16 \\, k^{4} \\mathit{kq}^{2} + {\\left(k^{4} - {\\alpha}^{2}\\right)} q^{4} + {\\left(q^{4} - 16 \\, \\mathit{kq}^{2}\\right)} r^{2} + 2 \\, {\\left(k^{2} q^{4} - 16 \\, k^{2} \\mathit{kq}^{2}\\right)} r} $$"
      ],
      "text/plain": [
       "<IPython.core.display.Latex object>"
      ]
     },
     "metadata": {},
     "output_type": "display_data"
    }
   ],
   "source": [
    "pprint(eig[1].subs(x == sqrt(-r  - k**2)).full_simplify())"
   ]
  },
  {
   "cell_type": "code",
   "execution_count": null,
   "metadata": {
    "vscode": {
     "languageId": "python"
    }
   },
   "outputs": [],
   "source": []
  }
 ],
 "metadata": {
  "kernelspec": {
   "display_name": "SageMath 9.5",
   "language": "sage",
   "name": "sagemath"
  },
  "language_info": {
   "codemirror_mode": {
    "name": "ipython",
    "version": 3
   },
   "file_extension": ".py",
   "mimetype": "text/x-python",
   "name": "sage",
   "nbconvert_exporter": "python",
   "pygments_lexer": "ipython3",
   "version": "3.10.12"
  },
  "orig_nbformat": 4
 },
 "nbformat": 4,
 "nbformat_minor": 2
}
