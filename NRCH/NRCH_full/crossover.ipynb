{
 "cells": [
  {
   "cell_type": "code",
   "execution_count": null,
   "id": "f9f519da",
   "metadata": {},
   "outputs": [],
   "source": [
    "import numpy as np\n",
    "import matplotlib.pyplot as plt\n",
    "\n",
    "from numpy import exp, abs, log as ln\n",
    "from matplotlib import cm\n",
    "from matplotlib.animation import FuncAnimation as FA\n",
    "\n",
    "plt.rc(\"font\", family=\"serif\", size=16)\n",
    "plt.rc(\"mathtext\", fontset=\"cm\")\n",
    "\n",
    "plt.rc(\"lines\", lw=2)"
   ]
  },
  {
   "cell_type": "code",
   "execution_count": null,
   "id": "096bc76c",
   "metadata": {},
   "outputs": [],
   "source": [
    "c = 1.1\n",
    "l1 = 2 - 2/5\n",
    "l2 = 2\n",
    "a0 = 1\n",
    "r0 = 1\n",
    "g0 = c * r0 / a0\n",
    "\n",
    "def a(l): return a0*(g0 *exp(l1 * l) + (1-g0)* exp(l2 * l))\n",
    "\n",
    "def lc(g0) : return 1 / (l1 - l2) * ln(abs((1 - g0)/ (g0)))\n",
    "print(lc)\n"
   ]
  },
  {
   "cell_type": "code",
   "execution_count": null,
   "id": "f1e20822",
   "metadata": {},
   "outputs": [],
   "source": [
    "fig, ax = plt.subplots(figsize=(3, 4))\n",
    "g0 = np.linspace(-1., 2.1, 1000)\n",
    "ax.plot(g0, lc(g0), label='$\\\\ell_c$')\n",
    "ax.plot([np.min(g0), np.max(g0)], [0, 0], 'k-', lw=2, alpha=.5)\n",
    "ax.plot([1/2, 1/2], [-5, 5], 'k--', lw=1)\n",
    "ax.plot([1, 1], [-5, 5], 'k--', lw=1)\n",
    "\n",
    "ax.set_xlabel(\"$g_0$\")\n",
    "ax.set_ylabel(\"$\\\\ell_c$\")\n",
    "ax.set_ylim(-5, 5)\n",
    "ax.legend()\n",
    "fig.savefig(\"RG_time.pdf\", bbox_inches='tight')"
   ]
  },
  {
   "cell_type": "code",
   "execution_count": null,
   "id": "452ee032",
   "metadata": {},
   "outputs": [],
   "source": [
    "from matplotlib.ticker import LogFormatter\n",
    "\n",
    "l = np.linspace(0, 14, 500) \n",
    "\n",
    "fig, ax = plt.subplots(figsize=(4, 3.5))\n",
    "\n",
    "g0 = c * r0 / a0\n",
    "\n",
    "\n",
    "sign = a(l) > 0\n",
    "ax.plot(l*sign, a(l)*sign, 'tab:blue', lw=4., label=\"$\\\\alpha_0(\\\\ell) - \\\\alpha_0^*$ \", alpha=.4, zorder=10)\n",
    "sign = a(l) < 0\n",
    "ax.plot(l*sign, -a(l)*sign, 'tab:green', lw=4., label=\"$\\\\alpha_0^* - \\\\alpha_0(\\\\ell)$ \", alpha=.4, zorder=10)\n",
    "ax.plot(l, np.abs(c)*r0*np.exp(l1*l), 'r--', label=\"$e^{\\\\lambda_1 \\\\ell}$\")\n",
    "ax.plot(l, a0*abs(1-g0)*np.exp(l2*l), 'k--', label=\"$e^{\\\\lambda_2 \\\\ell}$\")\n",
    "ax.plot([lc(g0), lc(g0)], [a0*abs(1-g0),a0*abs(1-g0) * exp( l2 * l[-1])], '--', color=\"gray\", lw=1.)\n",
    "\n",
    "ax.set_yscale('log')\n",
    "ax.yaxis.set_major_formatter(plt.FuncFormatter(lambda x, _: f'{int(np.log10(x))}'))\n",
    "\n",
    "ax.set_xlabel(\"$\\\\ell$\")\n",
    "ax.set_ylabel(\"$\\\\log_{10} |\\\\alpha_0(\\\\ell) - \\\\alpha_0^*|$\")\n",
    "\n",
    "ax.text(lc(g0) + .5, 10, \"$\\\\ell_c$\")\n",
    "# ax.text(9.5, 5e5, \"$ \\\\sim e^{\\\\lambda_1 \\\\ell} $\", rotation=20)\n",
    "# ax.text(2, 2e-1, \"$\\\\sim e^{\\\\lambda_2 \\\\ell} $\", rotation=30)\n",
    "\n",
    "ax.text(10, 10**(0), \"$g_0={g0:3.4}$\".format(g0=g0), zorder=10, size=10)\n",
    "\n",
    "plt.legend()\n",
    "plt.show()\n",
    "fig.savefig(\"crossover.pdf\", bbox_inches='tight')"
   ]
  },
  {
   "cell_type": "code",
   "execution_count": null,
   "id": "a1c9bd34",
   "metadata": {},
   "outputs": [],
   "source": [
    "fig, axs = plt.subplots(1,3, figsize=(12, 3), sharey=True)\n",
    "cs = [1, 1/2, -1]\n",
    "axs[0].set_ylabel('$\\\\delta \\\\alpha_0$')\n",
    "for i, ax in enumerate(axs):\n",
    "    c = cs[i]\n",
    "\n",
    "    dr = np.linspace(0, 2)\n",
    "    da = np.linspace(0, 2)\n",
    "    ax.set_ylim(-2, 2)\n",
    "    ax.set_xlim(0, 2)\n",
    "    ax.plot(dr, 0*dr, 'k-', lw=1)\n",
    "\n",
    "    g0 = 1/ 2\n",
    "    ax.plot(dr, c / g0 * da, 'g', label=\"$g_0 = {g0}$\".format(g0=g0))\n",
    "\n",
    "    g0 = 1\n",
    "    ax.plot(dr, c / g0 * da, 'tab:blue', label=\"$g_0 = {g0}$\".format(g0=g0))\n",
    "    ax.set_xlabel('$\\\\delta r_0$')\n",
    "    ax.set_title(\"${ \\\\beta }/{K} = \"+\"{c}$\".format(c=c))\n",
    "\n",
    "axs[-1].legend()\n",
    "fig.savefig(\"phase_diagram.pdf\", bbox_inches='tight')"
   ]
  },
  {
   "cell_type": "code",
   "execution_count": null,
   "id": "15c105aa",
   "metadata": {},
   "outputs": [],
   "source": [
    "fig, ax = plt.subplots(figsize=(4, 3), sharey=True)\n",
    "\n",
    "dr = np.linspace(-2, 2)\n",
    "da = np.linspace(-2, 2)\n",
    "ax.set_ylim(-2, 2)\n",
    "ax.set_xlim(-.4, 2)\n",
    "ax.plot(dr, 0*dr, 'k-', lw=1)\n",
    "ax.plot(0*da, da, 'k-', lw=1)\n",
    "\n",
    "dr = np.linspace(0, 2)\n",
    "da = np.linspace(0, 2)\n",
    "ax.plot(dr, da, 'g', label=\"$g_0 = {g0}$\".format(g0=g0))\n",
    "ax.plot(dr, -da, 'tab:blue', label=\"$g_0 = {g0}$\".format(g0=g0))\n",
    "\n",
    "ax.set_xlabel('$\\\\delta r_0$')\n",
    "ax.set_ylabel('$h$')\n",
    "ax.set_title(\"Ising model\")\n",
    "ax.plot(0, 0, 'ro', alpha=.5, ms=10)\n",
    "ax.plot(-dr, 0*dr, 'r-', lw=4, alpha=.5)\n",
    "\n",
    "\n",
    "fig.savefig(\"ising.pdf\", bbox_inches='tight')"
   ]
  }
 ],
 "metadata": {
  "kernelspec": {
   "display_name": "Python 3",
   "language": "python",
   "name": "python3"
  },
  "language_info": {
   "codemirror_mode": {
    "name": "ipython",
    "version": 3
   },
   "file_extension": ".py",
   "mimetype": "text/x-python",
   "name": "python",
   "nbconvert_exporter": "python",
   "pygments_lexer": "ipython3",
   "version": "3.10.12"
  }
 },
 "nbformat": 4,
 "nbformat_minor": 5
}
