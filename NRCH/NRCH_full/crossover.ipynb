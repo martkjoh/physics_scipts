{
 "cells": [
  {
   "cell_type": "code",
   "execution_count": null,
   "id": "f9f519da",
   "metadata": {},
   "outputs": [],
   "source": [
    "import numpy as np\n",
    "import matplotlib.pyplot as plt\n",
    "\n",
    "from numpy import exp, log as ln\n",
    "from matplotlib import cm\n",
    "from matplotlib.animation import FuncAnimation as FA\n",
    "\n",
    "plt.rc(\"font\", family=\"serif\", size=16)\n",
    "plt.rc(\"mathtext\", fontset=\"cm\")\n",
    "\n",
    "plt.rc(\"lines\", lw=2)"
   ]
  },
  {
   "cell_type": "code",
   "execution_count": null,
   "id": "096bc76c",
   "metadata": {},
   "outputs": [],
   "source": [
    "c = .05\n",
    "l1 = 2 - 2/5\n",
    "l2 = 2\n",
    "a0 = 1\n",
    "r0 = 1\n",
    "\n",
    "g0 = c * a0 / r0\n",
    "\n",
    "def r(l): return exp(l1 * l) * r0 + c * exp(l2 * l) * a0\n",
    "\n",
    "lc = 1 / (l1 - l2) * ln(g0)\n",
    "lc = - 5/2 * ln(g0)"
   ]
  },
  {
   "cell_type": "code",
   "execution_count": null,
   "id": "452ee032",
   "metadata": {},
   "outputs": [],
   "source": [
    "from matplotlib.ticker import LogFormatter\n",
    "\n",
    "l = np.linspace(0, 14, 100) \n",
    "\n",
    "fig, ax = plt.subplots(figsize=(6, 3.5))\n",
    "\n",
    "ax.plot(l, r(l), 'tab:blue', lw=4., label=\"$r(\\\\ell) - r^*$ \", alpha=.5)\n",
    "ax.plot(l, np.exp(l1*l), 'r--')\n",
    "ax.plot(l, c * np.exp(l2*l), 'k--')\n",
    "ax.plot([lc, lc ], [c,c * exp( l2 * l[-1])], '--', color=\"gray\", lw=1.)\n",
    "\n",
    "ax.set_yscale('log')\n",
    "ax.yaxis.set_major_formatter(plt.FuncFormatter(lambda x, _: f'{int(np.log10(x))}'))\n",
    "\n",
    "ax.set_xlabel(\"$\\\\ell$\")\n",
    "ax.set_ylabel(\"$\\\\log_{10} [r(\\\\ell) - r^*]$\")\n",
    "\n",
    "ax.text(7.6, 10, \"$\\\\ell_c$\")\n",
    "ax.text(9.5, 5e5, \"$ \\\\sim e^{\\\\lambda_1 \\\\ell} $\", rotation=20)\n",
    "ax.text(2, 2e-1, \"$\\\\sim e^{\\\\lambda_2 \\\\ell} $\", rotation=30)\n",
    "\n",
    "plt.legend()\n",
    "plt.show()\n",
    "fig.savefig(\"crossover.pdf\", bbox_inches='tight')"
   ]
  },
  {
   "cell_type": "code",
   "execution_count": null,
   "id": "a1c9bd34",
   "metadata": {},
   "outputs": [],
   "source": []
  }
 ],
 "metadata": {
  "kernelspec": {
   "display_name": "Python 3",
   "language": "python",
   "name": "python3"
  },
  "language_info": {
   "codemirror_mode": {
    "name": "ipython",
    "version": 3
   },
   "file_extension": ".py",
   "mimetype": "text/x-python",
   "name": "python",
   "nbconvert_exporter": "python",
   "pygments_lexer": "ipython3",
   "version": "3.12.3"
  }
 },
 "nbformat": 4,
 "nbformat_minor": 5
}
