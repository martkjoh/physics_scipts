{
 "cells": [
  {
   "cell_type": "markdown",
   "id": "e5c2a0b4",
   "metadata": {},
   "source": [
    "### Sage notebook for the unitary transformation of $M$ (linear stability matrix) in the NRCH model"
   ]
  },
  {
   "cell_type": "code",
   "execution_count": 2,
   "id": "0d40e2fe",
   "metadata": {},
   "outputs": [
    {
     "data": {
      "text/latex": [
       "$$ \\left(\\begin{array}{rr}\n",
       "q^{2} + r - \\sqrt{-3 \\, a^{2} + r^{2}} & a \\\\\n",
       "-a & q^{2} - \\frac{1}{3} \\, r - \\frac{1}{3} \\, \\sqrt{-3 \\, a^{2} + r^{2}}\n",
       "\\end{array}\\right) $$"
      ],
      "text/plain": [
       "<IPython.core.display.Latex object>"
      ]
     },
     "metadata": {},
     "output_type": "display_data"
    },
    {
     "data": {
      "text/latex": [
       "$$ \\left[\\left(1,\\,-\\frac{r + \\sqrt{-3 \\, a^{2} + r^{2}}}{3 \\, a}\\right), \\left(1,\\,-\\frac{r - \\sqrt{-3 \\, a^{2} + r^{2}}}{a}\\right)\\right] $$"
      ],
      "text/plain": [
       "<IPython.core.display.Latex object>"
      ]
     },
     "metadata": {},
     "output_type": "display_data"
    },
    {
     "data": {
      "text/latex": [
       "$$ \\left[q^{2} + \\frac{2}{3} \\, r - \\frac{4}{3} \\, \\sqrt{-3 \\, a^{2} + r^{2}}, q^{2}\\right] $$"
      ],
      "text/plain": [
       "<IPython.core.display.Latex object>"
      ]
     },
     "metadata": {},
     "output_type": "display_data"
    }
   ],
   "source": [
    "from IPython.display import display, Latex\n",
    "\n",
    "def pprint(expr):\n",
    "    return display(Latex(\"$$\" + latex(expr) +\"$$\"))\n",
    "\n",
    "var(\"r\", 'positive')\n",
    "var(\"a\", 'positive')\n",
    "var(\"q\", 'positive')\n",
    "M = Matrix([[q**2 + r - sqrt(r**2 - 3*a**2), a], [-a, q**2 - (r + sqrt(r**2 - 3*a**2))/3]] )\n",
    "pprint(M)\n",
    "v = M.eigenvectors_right()\n",
    "vec = [v[i][1][0] for i in range(2)]\n",
    "val = [v[i][0]for i in range(2)]\n",
    "pprint(vec)\n",
    "pprint(val)"
   ]
  },
  {
   "cell_type": "code",
   "execution_count": 3,
   "id": "8b47cc00",
   "metadata": {},
   "outputs": [
    {
     "data": {
      "text/plain": [
       "(a, -r + sqrt(-3*a^2 + r^2))"
      ]
     },
     "execution_count": 3,
     "metadata": {},
     "output_type": "execute_result"
    }
   ],
   "source": [
    "u = a*vec[1]\n",
    "u"
   ]
  },
  {
   "cell_type": "code",
   "execution_count": 4,
   "id": "8c29ed73",
   "metadata": {},
   "outputs": [
    {
     "data": {
      "text/latex": [
       "$$ \\left(\\begin{array}{rr}\n",
       "\\frac{a}{\\sqrt{a^{2} + {\\left(r - \\sqrt{-3 \\, a^{2} + r^{2}}\\right)}^{2}}} & -\\frac{r - \\sqrt{-3 \\, a^{2} + r^{2}}}{\\sqrt{a^{2} + {\\left(r - \\sqrt{-3 \\, a^{2} + r^{2}}\\right)}^{2}}} \\\\\n",
       "-\\frac{r - \\sqrt{-3 \\, a^{2} + r^{2}}}{\\sqrt{a^{2} + {\\left(r - \\sqrt{-3 \\, a^{2} + r^{2}}\\right)}^{2}}} & -\\frac{a}{\\sqrt{a^{2} + {\\left(r - \\sqrt{-3 \\, a^{2} + r^{2}}\\right)}^{2}}}\n",
       "\\end{array}\\right) $$"
      ],
      "text/plain": [
       "<IPython.core.display.Latex object>"
      ]
     },
     "metadata": {},
     "output_type": "display_data"
    }
   ],
   "source": [
    "un = 1 / sqrt(u*u)\n",
    "U = un * Matrix(\n",
    "    [\n",
    "        [u[0], u[1]], \n",
    "        [u[1], -u[0]]\n",
    "    ])\n",
    "pprint(U)"
   ]
  },
  {
   "cell_type": "code",
   "execution_count": 23,
   "id": "b1a9a3a2",
   "metadata": {},
   "outputs": [
    {
     "name": "stdout",
     "output_type": "stream",
     "text": [
      "1/3*(3*a^4*q^2 - 15*a^2*q^2*r^2 + 6*q^2*r^4 + 26*a^4*r - 42*a^2*r^3 + 12*r^5 + 2*(3*a^2*q^2*r - 3*q^2*r^3 - 2*a^4 + 12*a^2*r^2 - 6*r^4)*sqrt(-3*a^2 + r^2))/(a^4 - 5*a^2*r^2 + 2*r^4 + 2*(a^2*r - r^3)*sqrt(-3*a^2 + r^2))\n"
     ]
    },
    {
     "data": {
      "text/latex": [
       "$$ \\left(\\begin{array}{rr}\n",
       "q^{2} & -2 \\, a \\\\\n",
       "0 & \\frac{3 \\, a^{4} q^{2} - 15 \\, a^{2} q^{2} r^{2} + 6 \\, q^{2} r^{4} + 26 \\, a^{4} r - 42 \\, a^{2} r^{3} + 12 \\, r^{5} + 2 \\, {\\left(3 \\, a^{2} q^{2} r - 3 \\, q^{2} r^{3} - 2 \\, a^{4} + 12 \\, a^{2} r^{2} - 6 \\, r^{4}\\right)} \\sqrt{-3 \\, a^{2} + r^{2}}}{3 \\, {\\left(a^{4} - 5 \\, a^{2} r^{2} + 2 \\, r^{4} + 2 \\, {\\left(a^{2} r - r^{3}\\right)} \\sqrt{-3 \\, a^{2} + r^{2}}\\right)}}\n",
       "\\end{array}\\right) $$"
      ],
      "text/plain": [
       "<IPython.core.display.Latex object>"
      ]
     },
     "metadata": {},
     "output_type": "display_data"
    }
   ],
   "source": [
    "M2 = (U*M*U).simplify_full()\n",
    "print(M2[1,1])\n",
    "pprint(M2)"
   ]
  },
  {
   "cell_type": "code",
   "execution_count": 25,
   "id": "1efd83ec",
   "metadata": {},
   "outputs": [
    {
     "data": {
      "text/latex": [
       "$$ \\left(\\begin{array}{rr}\n",
       "q^{2} & -2 \\, a \\\\\n",
       "0 & q^{2} - \\frac{1}{3} \\, r - \\frac{1}{3} \\, \\sqrt{-3 \\, a^{2} + r^{2}}\n",
       "\\end{array}\\right) $$"
      ],
      "text/plain": [
       "<IPython.core.display.Latex object>"
      ]
     },
     "metadata": {},
     "output_type": "display_data"
    }
   ],
   "source": [
    "M2[1,1] = (M[1,1]/val[0]).simplify()*val[0]\n",
    "pprint(M2)"
   ]
  },
  {
   "cell_type": "code",
   "execution_count": 26,
   "id": "838fbaa1",
   "metadata": {},
   "outputs": [
    {
     "data": {
      "text/latex": [
       "$$ \\left[\\left(q^{2} + \\frac{2}{3} \\, r - \\frac{4}{3} \\, \\sqrt{-3 \\, a^{2} + r^{2}}, \\left[\\left(1,\\,-\\frac{r + \\sqrt{-3 \\, a^{2} + r^{2}}}{3 \\, a}\\right)\\right], 1\\right), \\left(q^{2}, \\left[\\left(1,\\,-\\frac{r - \\sqrt{-3 \\, a^{2} + r^{2}}}{a}\\right)\\right], 1\\right)\\right] $$"
      ],
      "text/plain": [
       "<IPython.core.display.Latex object>"
      ]
     },
     "metadata": {},
     "output_type": "display_data"
    },
    {
     "data": {
      "text/latex": [
       "$$ \\left[\\left(q^{2} - \\frac{1}{3} \\, r - \\frac{1}{3} \\, \\sqrt{-3 \\, a^{2} + r^{2}}, \\left[\\left(1,\\,\\frac{r + \\sqrt{-3 \\, a^{2} + r^{2}}}{6 \\, a}\\right)\\right], 1\\right), \\left(q^{2}, \\left[\\left(1,\\,0\\right)\\right], 1\\right)\\right] $$"
      ],
      "text/plain": [
       "<IPython.core.display.Latex object>"
      ]
     },
     "metadata": {},
     "output_type": "display_data"
    },
    {
     "data": {
      "text/latex": [
       "$$ \\left(q^{2} - \\frac{1}{3} \\, r - \\frac{1}{3} \\, \\sqrt{-3 \\, a^{2} + r^{2}},\\,\\frac{{\\left(3 \\, q^{2} - r - \\sqrt{-3 \\, a^{2} + r^{2}}\\right)} {\\left(r + \\sqrt{-3 \\, a^{2} + r^{2}}\\right)}}{18 \\, a}\\right) $$"
      ],
      "text/plain": [
       "<IPython.core.display.Latex object>"
      ]
     },
     "metadata": {},
     "output_type": "display_data"
    }
   ],
   "source": [
    "v2 = M2.eigenvectors_right()\n",
    "pprint(v)\n",
    "pprint(v2)\n",
    "vv = v2[0][1][0]\n",
    "pprint((M2*vv).simplify())"
   ]
  },
  {
   "cell_type": "code",
   "execution_count": 27,
   "id": "650b8dff",
   "metadata": {},
   "outputs": [
    {
     "data": {
      "text/latex": [
       "$$ \\left(\\begin{array}{rr}\n",
       "\\frac{a}{\\sqrt{a^{2} + {\\left(r - \\sqrt{-3 \\, a^{2} + r^{2}}\\right)}^{2}}} & -\\frac{r - \\sqrt{-3 \\, a^{2} + r^{2}}}{\\sqrt{a^{2} + {\\left(r - \\sqrt{-3 \\, a^{2} + r^{2}}\\right)}^{2}}} \\\\\n",
       "-\\frac{r - \\sqrt{-3 \\, a^{2} + r^{2}}}{\\sqrt{a^{2} + {\\left(r - \\sqrt{-3 \\, a^{2} + r^{2}}\\right)}^{2}}} & -\\frac{a}{\\sqrt{a^{2} + {\\left(r - \\sqrt{-3 \\, a^{2} + r^{2}}\\right)}^{2}}}\n",
       "\\end{array}\\right) $$"
      ],
      "text/plain": [
       "<IPython.core.display.Latex object>"
      ]
     },
     "metadata": {},
     "output_type": "display_data"
    },
    {
     "data": {
      "text/latex": [
       "$$ \\frac{a}{\\sqrt{{\\left(2 \\, a - {\\delta} - \\sqrt{{\\left(2 \\, a - {\\delta}\\right)}^{2} - 3 \\, a^{2}}\\right)}^{2} + a^{2}}} $$"
      ],
      "text/plain": [
       "<IPython.core.display.Latex object>"
      ]
     },
     "metadata": {},
     "output_type": "display_data"
    },
    {
     "data": {
      "text/latex": [
       "$$ \\frac{1}{2} \\, \\sqrt{2} - \\frac{\\sqrt{2} {\\delta}}{4 \\, a} $$"
      ],
      "text/plain": [
       "<IPython.core.display.Latex object>"
      ]
     },
     "metadata": {},
     "output_type": "display_data"
    }
   ],
   "source": [
    "var(\"d\", latex_name=\"\\\\delta\")\n",
    "pprint(U)\n",
    "A = U.subs(r==2*a - d)\n",
    "pprint(A[0,0])\n",
    "pprint(A[0, 0].taylor(d, 0, 1))"
   ]
  },
  {
   "cell_type": "code",
   "execution_count": 28,
   "id": "2132def6",
   "metadata": {},
   "outputs": [
    {
     "data": {
      "text/latex": [
       "$$ -\\frac{1}{2} \\, \\sqrt{2} - \\frac{\\sqrt{2} {\\delta}}{4 \\, a} $$"
      ],
      "text/plain": [
       "<IPython.core.display.Latex object>"
      ]
     },
     "metadata": {},
     "output_type": "display_data"
    }
   ],
   "source": [
    "pprint(A[1, 0].taylor(d, 0, 1))"
   ]
  },
  {
   "cell_type": "code",
   "execution_count": null,
   "id": "0851c185",
   "metadata": {},
   "outputs": [],
   "source": []
  }
 ],
 "metadata": {
  "kernelspec": {
   "display_name": "SageMath 9.5",
   "language": "sage",
   "name": "sagemath"
  },
  "language_info": {
   "codemirror_mode": {
    "name": "ipython",
    "version": 3
   },
   "file_extension": ".py",
   "mimetype": "text/x-python",
   "name": "python",
   "nbconvert_exporter": "python",
   "pygments_lexer": "ipython3",
   "version": "3.10.6"
  }
 },
 "nbformat": 4,
 "nbformat_minor": 5
}
